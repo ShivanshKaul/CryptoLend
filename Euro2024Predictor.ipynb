{
  "metadata": {
    "kernelspec": {
      "language": "python",
      "display_name": "Python 3",
      "name": "python3"
    },
    "language_info": {
      "name": "python",
      "version": "3.7.12",
      "mimetype": "text/x-python",
      "codemirror_mode": {
        "name": "ipython",
        "version": 3
      },
      "pygments_lexer": "ipython3",
      "nbconvert_exporter": "python",
      "file_extension": ".py"
    },
    "kaggle": {
      "accelerator": "none",
      "dataSources": [
        {
          "sourceId": 8299205,
          "sourceType": "datasetVersion",
          "datasetId": 462919
        },
        {
          "sourceId": 8669439,
          "sourceType": "datasetVersion",
          "datasetId": 4305
        },
        {
          "sourceId": 8685107,
          "sourceType": "datasetVersion",
          "datasetId": 5207083
        }
      ],
      "dockerImageVersionId": 30301,
      "isInternetEnabled": false,
      "language": "python",
      "sourceType": "notebook",
      "isGpuEnabled": false
    },
    "colab": {
      "name": "notebook81230c5938",
      "provenance": [],
      "include_colab_link": true
    }
  },
  "nbformat_minor": 0,
  "nbformat": 4,
  "cells": [
    {
      "cell_type": "markdown",
      "metadata": {
        "id": "view-in-github",
        "colab_type": "text"
      },
      "source": [
        "<a href=\"https://colab.research.google.com/github/ShivanshKaul/CryptoLend/blob/main/Euro2024Predictor.ipynb\" target=\"_parent\"><img src=\"https://colab.research.google.com/assets/colab-badge.svg\" alt=\"Open In Colab\"/></a>"
      ]
    },
    {
      "source": [
        "\n",
        "# IMPORTANT: RUN THIS CELL IN ORDER TO IMPORT YOUR KAGGLE DATA SOURCES\n",
        "# TO THE CORRECT LOCATION (/kaggle/input) IN YOUR NOTEBOOK,\n",
        "# THEN FEEL FREE TO DELETE THIS CELL.\n",
        "# NOTE: THIS NOTEBOOK ENVIRONMENT DIFFERS FROM KAGGLE'S PYTHON\n",
        "# ENVIRONMENT SO THERE MAY BE MISSING LIBRARIES USED BY YOUR\n",
        "# NOTEBOOK.\n",
        "\n",
        "import os\n",
        "import sys\n",
        "from tempfile import NamedTemporaryFile\n",
        "from urllib.request import urlopen\n",
        "from urllib.parse import unquote, urlparse\n",
        "from urllib.error import HTTPError\n",
        "from zipfile import ZipFile\n",
        "import tarfile\n",
        "import shutil\n",
        "\n",
        "CHUNK_SIZE = 40960\n",
        "DATA_SOURCE_MAPPING = 'fifaworldranking:https%3A%2F%2Fstorage.googleapis.com%2Fkaggle-data-sets%2F462919%2F8299205%2Fbundle%2Farchive.zip%3FX-Goog-Algorithm%3DGOOG4-RSA-SHA256%26X-Goog-Credential%3Dgcp-kaggle-com%2540kaggle-161607.iam.gserviceaccount.com%252F20240615%252Fauto%252Fstorage%252Fgoog4_request%26X-Goog-Date%3D20240615T120435Z%26X-Goog-Expires%3D259200%26X-Goog-SignedHeaders%3Dhost%26X-Goog-Signature%3D32b64ca4472daf0ccc693692b0d36bbe43de068eb909d895113b6c866d005886f00031f1c66ed40b8d13fbd59eb9b43ef0a4b5e0106860da03610865c4b294614ffcc1ecb94eabf8a22423b4a51d8d18673d47073e7b94ae6356be34c8425c270fcac85c1ab45164519c8752b6e9602d7e54d9a12ec30b63ba29017bea7b2d2178fb342f70f2b54ffba923027bc5dfb8922de0a2fa0410945383e1bc5cd619fcfeb8e89ad713e0c7496002d59364c8f8cf70171ef06a943233789398326b2531da26561e457b8cd4d63c77ce3a061b14dce83bfcf73f189932503394e0e9c7e97ad324ff39d645be3d19df8b7acb8f111371230f19cfa84df3a7e0ccb5f12733,international-football-results-from-1872-to-2017:https%3A%2F%2Fstorage.googleapis.com%2Fkaggle-data-sets%2F4305%2F8669439%2Fbundle%2Farchive.zip%3FX-Goog-Algorithm%3DGOOG4-RSA-SHA256%26X-Goog-Credential%3Dgcp-kaggle-com%2540kaggle-161607.iam.gserviceaccount.com%252F20240615%252Fauto%252Fstorage%252Fgoog4_request%26X-Goog-Date%3D20240615T120435Z%26X-Goog-Expires%3D259200%26X-Goog-SignedHeaders%3Dhost%26X-Goog-Signature%3D1c66409a33661c2ed79b4ce2f15cb0cf5189e41ef10a868eee395d20618746f92d4cb35d3b4fc02d343bc516f07218d3f2b0ac23df8929f02165cd42f78ccc9262a9d53ec7155d79b0576c9044c67c4134a7806d73b734f42a9ff403fc4dcf86f9e7302ec372502a9375da175db5198ec11481b3be6c84f4a5b57608629d858b105de56233057a62cb205d32500df5c2936bfb084049dbe2f8784d68d06e086d98e1224728e7dd4a58929083f637e607da064a5f382bd87753f612fe9b5e0a900490769defd1c63c37c4ba01930dae6ceda2d425a69ecc9ff359552051b1ce679ab67769fa44d8e35171be46c5f9f5d796074aaae5cc07c3817918dae32bdfa7'\n",
        "\n",
        "KAGGLE_INPUT_PATH='/kaggle/input'\n",
        "KAGGLE_WORKING_PATH='/kaggle/working'\n",
        "KAGGLE_SYMLINK='kaggle'\n",
        "\n",
        "!umount /kaggle/input/ 2> /dev/null\n",
        "shutil.rmtree('/kaggle/input', ignore_errors=True)\n",
        "os.makedirs(KAGGLE_INPUT_PATH, 0o777, exist_ok=True)\n",
        "os.makedirs(KAGGLE_WORKING_PATH, 0o777, exist_ok=True)\n",
        "\n",
        "try:\n",
        "  os.symlink(KAGGLE_INPUT_PATH, os.path.join(\"..\", 'input'), target_is_directory=True)\n",
        "except FileExistsError:\n",
        "  pass\n",
        "try:\n",
        "  os.symlink(KAGGLE_WORKING_PATH, os.path.join(\"..\", 'working'), target_is_directory=True)\n",
        "except FileExistsError:\n",
        "  pass\n",
        "\n",
        "for data_source_mapping in DATA_SOURCE_MAPPING.split(','):\n",
        "    directory, download_url_encoded = data_source_mapping.split(':')\n",
        "    download_url = unquote(download_url_encoded)\n",
        "    filename = urlparse(download_url).path\n",
        "    destination_path = os.path.join(KAGGLE_INPUT_PATH, directory)\n",
        "    try:\n",
        "        with urlopen(download_url) as fileres, NamedTemporaryFile() as tfile:\n",
        "            total_length = fileres.headers['content-length']\n",
        "            print(f'Downloading {directory}, {total_length} bytes compressed')\n",
        "            dl = 0\n",
        "            data = fileres.read(CHUNK_SIZE)\n",
        "            while len(data) > 0:\n",
        "                dl += len(data)\n",
        "                tfile.write(data)\n",
        "                done = int(50 * dl / int(total_length))\n",
        "                sys.stdout.write(f\"\\r[{'=' * done}{' ' * (50-done)}] {dl} bytes downloaded\")\n",
        "                sys.stdout.flush()\n",
        "                data = fileres.read(CHUNK_SIZE)\n",
        "            if filename.endswith('.zip'):\n",
        "              with ZipFile(tfile) as zfile:\n",
        "                zfile.extractall(destination_path)\n",
        "            else:\n",
        "              with tarfile.open(tfile.name) as tarfile:\n",
        "                tarfile.extractall(destination_path)\n",
        "            print(f'\\nDownloaded and uncompressed: {directory}')\n",
        "    except HTTPError as e:\n",
        "        print(f'Failed to load (likely expired) {download_url} to path {destination_path}')\n",
        "        continue\n",
        "    except OSError as e:\n",
        "        print(f'Failed to load {download_url} to path {destination_path}')\n",
        "        continue\n",
        "\n",
        "print('Data source import complete.')\n"
      ],
      "metadata": {
        "id": "KjQNoV-38ywr"
      },
      "cell_type": "code",
      "outputs": [],
      "execution_count": null
    },
    {
      "cell_type": "code",
      "source": [
        "## This Python 3 environment comes with many helpful analytics libraries installed\n",
        "# It is defined by the kaggle/python Docker image: https://github.com/kaggle/docker-python\n",
        "# For example, here's several helpful packages to load\n",
        "\n",
        "import numpy as np # linear algebra\n",
        "import pandas as pd # data processing, CSV file I/O (e.g. pd.read_csv)\n",
        "\n",
        "# Input data files are available in the read-only \"../input/\" directory\n",
        "# For example, running this (by clicking run or pressing Shift+Enter) will list all files under the input directory\n",
        "\n",
        "import os\n",
        "for dirname, _, filenames in os.walk('/kaggle/input'):\n",
        "    for filename in filenames:\n",
        "        print(os.path.join(dirname, filename))\n",
        "\n",
        "# You can write up to 20GB to the current directory (/kaggle/working/) that gets preserved as output when you create a version using \"Save & Run All\"\n",
        "# You can also write temporary files to /kaggle/temp/, but they won't be saved outside of the current session"
      ],
      "metadata": {
        "_uuid": "8f2839f25d086af736a60e9eeb907d3b93b6e0e5",
        "_cell_guid": "b1076dfc-b9ad-4769-8c92-a6c4dae69d19",
        "execution": {
          "iopub.status.busy": "2024-06-14T18:09:14.96322Z",
          "iopub.execute_input": "2024-06-14T18:09:14.964338Z",
          "iopub.status.idle": "2024-06-14T18:09:15.013867Z",
          "shell.execute_reply.started": "2024-06-14T18:09:14.964227Z",
          "shell.execute_reply": "2024-06-14T18:09:15.012534Z"
        },
        "trusted": true,
        "id": "2ENYbex88yww",
        "outputId": "57609003-7542-47e2-ac8e-440fbf71dd7c"
      },
      "execution_count": null,
      "outputs": [
        {
          "name": "stdout",
          "text": "/kaggle/input/international-football-results-from-1872-to-2017/goalscorers.csv\n/kaggle/input/international-football-results-from-1872-to-2017/shootouts.csv\n/kaggle/input/international-football-results-from-1872-to-2017/results.csv\n/kaggle/input/rankinggggg/fifa_ranking-2024-04-04.csv\n/kaggle/input/fifaworldranking/fifa_ranking-2024-04-04.csv\n/kaggle/input/fifaworldranking/fifa_ranking-2023-07-20.csv\n",
          "output_type": "stream"
        }
      ]
    },
    {
      "cell_type": "markdown",
      "source": [],
      "metadata": {
        "id": "3iP1Jiz28ywx"
      }
    },
    {
      "cell_type": "code",
      "source": [
        "import pandas as pd\n",
        "import re"
      ],
      "metadata": {
        "execution": {
          "iopub.status.busy": "2024-06-14T18:09:15.016454Z",
          "iopub.execute_input": "2024-06-14T18:09:15.016828Z",
          "iopub.status.idle": "2024-06-14T18:09:15.021883Z",
          "shell.execute_reply.started": "2024-06-14T18:09:15.016794Z",
          "shell.execute_reply": "2024-06-14T18:09:15.020428Z"
        },
        "trusted": true,
        "id": "qHF8d1Z18ywz"
      },
      "execution_count": null,
      "outputs": []
    },
    {
      "cell_type": "markdown",
      "source": [
        "# The Project\n",
        "\n",
        "The idea here is to simulate the FIFA 2022 World Cup games with machine learning, in order to predict the competition's winner. The project uses two datasets: [International football results from 1872 to 2022](https://www.kaggle.com/datasets/martj42/international-football-results-from-1872-to-2017) and [FIFA World Ranking 1992-2022](https://www.kaggle.com/datasets/cashncarry/fifaworldranking)\n",
        "\n",
        "I've used the same logic that was used in the [Soccer World Cup 2018 Winner\n",
        "](https://www.kaggle.com/code/agostontorok/soccer-world-cup-2018-winner) notebook, that models the problem as binary classification one. I used this to make more easy to analyze model's results, so the model predicts between win from home team and draw/win from away team. Then, to remove the advantage of away team, I predicted the results changing teams from away and home (because there is not home advantage in World Cup), and used as probabilities the mean of the two predictions.\n",
        "\n",
        "# Data Preparation\n",
        "\n",
        "Here, I'll prepare the data to apply feature engineering methods that will create the database in order to apply Machine Learning algorithms."
      ],
      "metadata": {
        "id": "n_OcKKXO8ywz"
      }
    },
    {
      "cell_type": "code",
      "source": [
        "df =  pd.read_csv(\"../input/international-football-results-from-1872-to-2017/results.csv\")"
      ],
      "metadata": {
        "execution": {
          "iopub.status.busy": "2024-06-14T18:09:15.024021Z",
          "iopub.execute_input": "2024-06-14T18:09:15.024466Z",
          "iopub.status.idle": "2024-06-14T18:09:15.162736Z",
          "shell.execute_reply.started": "2024-06-14T18:09:15.024425Z",
          "shell.execute_reply": "2024-06-14T18:09:15.16153Z"
        },
        "trusted": true,
        "id": "usbDi57N8yw0"
      },
      "execution_count": null,
      "outputs": []
    },
    {
      "cell_type": "code",
      "source": [
        "df[\"date\"] = pd.to_datetime(df[\"date\"])"
      ],
      "metadata": {
        "execution": {
          "iopub.status.busy": "2024-06-14T18:09:15.164216Z",
          "iopub.execute_input": "2024-06-14T18:09:15.165211Z",
          "iopub.status.idle": "2024-06-14T18:09:15.195383Z",
          "shell.execute_reply.started": "2024-06-14T18:09:15.165162Z",
          "shell.execute_reply": "2024-06-14T18:09:15.19323Z"
        },
        "trusted": true,
        "id": "i4HTzIDI8yw1"
      },
      "execution_count": null,
      "outputs": []
    },
    {
      "cell_type": "code",
      "source": [
        "df.isna().sum()"
      ],
      "metadata": {
        "execution": {
          "iopub.status.busy": "2024-06-14T18:09:15.199034Z",
          "iopub.execute_input": "2024-06-14T18:09:15.199502Z",
          "iopub.status.idle": "2024-06-14T18:09:15.236448Z",
          "shell.execute_reply.started": "2024-06-14T18:09:15.199456Z",
          "shell.execute_reply": "2024-06-14T18:09:15.234659Z"
        },
        "trusted": true,
        "id": "I00O4six8yw2",
        "outputId": "24927fb1-2c2b-4856-cc0f-3972fcfee6cc"
      },
      "execution_count": null,
      "outputs": [
        {
          "execution_count": 5,
          "output_type": "execute_result",
          "data": {
            "text/plain": "date           0\nhome_team     15\naway_team     15\nhome_score    58\naway_score    58\ntournament     0\ncity           0\ncountry        0\nneutral        0\ndtype: int64"
          },
          "metadata": {}
        }
      ]
    },
    {
      "cell_type": "code",
      "source": [
        "df.dropna(inplace=True)"
      ],
      "metadata": {
        "execution": {
          "iopub.status.busy": "2024-06-14T18:09:15.237911Z",
          "iopub.execute_input": "2024-06-14T18:09:15.238398Z",
          "iopub.status.idle": "2024-06-14T18:09:15.278775Z",
          "shell.execute_reply.started": "2024-06-14T18:09:15.23834Z",
          "shell.execute_reply": "2024-06-14T18:09:15.277197Z"
        },
        "trusted": true,
        "id": "pOhwIOqp8yw3"
      },
      "execution_count": null,
      "outputs": []
    },
    {
      "cell_type": "code",
      "source": [
        "df.dtypes"
      ],
      "metadata": {
        "execution": {
          "iopub.status.busy": "2024-06-14T18:09:15.280469Z",
          "iopub.execute_input": "2024-06-14T18:09:15.281234Z",
          "iopub.status.idle": "2024-06-14T18:09:15.292368Z",
          "shell.execute_reply.started": "2024-06-14T18:09:15.281176Z",
          "shell.execute_reply": "2024-06-14T18:09:15.290637Z"
        },
        "trusted": true,
        "id": "pLCO2UW78yw4",
        "outputId": "39588aa4-090c-4de9-eba1-cd254220bb75"
      },
      "execution_count": null,
      "outputs": [
        {
          "execution_count": 7,
          "output_type": "execute_result",
          "data": {
            "text/plain": "date          datetime64[ns]\nhome_team             object\naway_team             object\nhome_score           float64\naway_score           float64\ntournament            object\ncity                  object\ncountry               object\nneutral                 bool\ndtype: object"
          },
          "metadata": {}
        }
      ]
    },
    {
      "cell_type": "markdown",
      "source": [
        "The dataset used will be the FIFA Games between 2018, from after the 2018 World Cup to the last games before the 2022 World Cup. The idea is to analyze just the games played at the preparation and classification to WC."
      ],
      "metadata": {
        "id": "zqojiKS-8yw4"
      }
    },
    {
      "cell_type": "code",
      "source": [
        "df.sort_values(\"date\").tail()"
      ],
      "metadata": {
        "execution": {
          "iopub.status.busy": "2024-06-14T18:09:15.294159Z",
          "iopub.execute_input": "2024-06-14T18:09:15.294509Z",
          "iopub.status.idle": "2024-06-14T18:09:15.345108Z",
          "shell.execute_reply.started": "2024-06-14T18:09:15.294477Z",
          "shell.execute_reply": "2024-06-14T18:09:15.343823Z"
        },
        "trusted": true,
        "id": "GOBx1UEi8yw6",
        "outputId": "9ce75913-ed8c-4cb0-a7ad-38fca37dc5da"
      },
      "execution_count": null,
      "outputs": [
        {
          "execution_count": 8,
          "output_type": "execute_result",
          "data": {
            "text/plain": "            date    home_team    away_team  home_score  away_score  \\\n47237 2024-06-11      Morocco        Congo         6.0         0.0   \n47238 2024-06-11        Kenya  Ivory Coast         0.0         0.0   \n47239 2024-06-11        Gabon       Gambia         3.0         2.0   \n47229 2024-06-11   San Marino       Cyprus         1.0         4.0   \n47266 2024-06-11  Puerto Rico     Anguilla         8.0         0.0   \n\n                         tournament         city      country  neutral  \n47237  FIFA World Cup qualification       Agadir      Morocco    False  \n47238  FIFA World Cup qualification     Lilongwe       Malawi     True  \n47239  FIFA World Cup qualification  Franceville        Gabon    False  \n47229                      Friendly   Serravalle   San Marino    False  \n47266  FIFA World Cup qualification      Bayamón  Puerto Rico    False  ",
            "text/html": "<div>\n<style scoped>\n    .dataframe tbody tr th:only-of-type {\n        vertical-align: middle;\n    }\n\n    .dataframe tbody tr th {\n        vertical-align: top;\n    }\n\n    .dataframe thead th {\n        text-align: right;\n    }\n</style>\n<table border=\"1\" class=\"dataframe\">\n  <thead>\n    <tr style=\"text-align: right;\">\n      <th></th>\n      <th>date</th>\n      <th>home_team</th>\n      <th>away_team</th>\n      <th>home_score</th>\n      <th>away_score</th>\n      <th>tournament</th>\n      <th>city</th>\n      <th>country</th>\n      <th>neutral</th>\n    </tr>\n  </thead>\n  <tbody>\n    <tr>\n      <th>47237</th>\n      <td>2024-06-11</td>\n      <td>Morocco</td>\n      <td>Congo</td>\n      <td>6.0</td>\n      <td>0.0</td>\n      <td>FIFA World Cup qualification</td>\n      <td>Agadir</td>\n      <td>Morocco</td>\n      <td>False</td>\n    </tr>\n    <tr>\n      <th>47238</th>\n      <td>2024-06-11</td>\n      <td>Kenya</td>\n      <td>Ivory Coast</td>\n      <td>0.0</td>\n      <td>0.0</td>\n      <td>FIFA World Cup qualification</td>\n      <td>Lilongwe</td>\n      <td>Malawi</td>\n      <td>True</td>\n    </tr>\n    <tr>\n      <th>47239</th>\n      <td>2024-06-11</td>\n      <td>Gabon</td>\n      <td>Gambia</td>\n      <td>3.0</td>\n      <td>2.0</td>\n      <td>FIFA World Cup qualification</td>\n      <td>Franceville</td>\n      <td>Gabon</td>\n      <td>False</td>\n    </tr>\n    <tr>\n      <th>47229</th>\n      <td>2024-06-11</td>\n      <td>San Marino</td>\n      <td>Cyprus</td>\n      <td>1.0</td>\n      <td>4.0</td>\n      <td>Friendly</td>\n      <td>Serravalle</td>\n      <td>San Marino</td>\n      <td>False</td>\n    </tr>\n    <tr>\n      <th>47266</th>\n      <td>2024-06-11</td>\n      <td>Puerto Rico</td>\n      <td>Anguilla</td>\n      <td>8.0</td>\n      <td>0.0</td>\n      <td>FIFA World Cup qualification</td>\n      <td>Bayamón</td>\n      <td>Puerto Rico</td>\n      <td>False</td>\n    </tr>\n  </tbody>\n</table>\n</div>"
          },
          "metadata": {}
        }
      ]
    },
    {
      "cell_type": "code",
      "source": [
        "df = df[(df[\"date\"] >= \"2018-8-1\")].reset_index(drop=True)"
      ],
      "metadata": {
        "execution": {
          "iopub.status.busy": "2024-06-14T18:09:15.346673Z",
          "iopub.execute_input": "2024-06-14T18:09:15.34709Z",
          "iopub.status.idle": "2024-06-14T18:09:15.35762Z",
          "shell.execute_reply.started": "2024-06-14T18:09:15.347056Z",
          "shell.execute_reply": "2024-06-14T18:09:15.355991Z"
        },
        "trusted": true,
        "id": "sZWEXQ4B8yw7"
      },
      "execution_count": null,
      "outputs": []
    },
    {
      "cell_type": "code",
      "source": [
        "df.sort_values(\"date\").tail()"
      ],
      "metadata": {
        "execution": {
          "iopub.status.busy": "2024-06-14T18:09:15.359102Z",
          "iopub.execute_input": "2024-06-14T18:09:15.359486Z",
          "iopub.status.idle": "2024-06-14T18:09:15.383805Z",
          "shell.execute_reply.started": "2024-06-14T18:09:15.359453Z",
          "shell.execute_reply": "2024-06-14T18:09:15.382491Z"
        },
        "trusted": true,
        "id": "R7rWZu4Z8yw9",
        "outputId": "9bd6f44d-a3bc-4457-bed4-7f8bf2d415e7"
      },
      "execution_count": null,
      "outputs": [
        {
          "execution_count": 10,
          "output_type": "execute_result",
          "data": {
            "text/plain": "           date    home_team    away_team  home_score  away_score  \\\n5615 2024-06-11      Morocco        Congo         6.0         0.0   \n5616 2024-06-11        Kenya  Ivory Coast         0.0         0.0   \n5617 2024-06-11        Gabon       Gambia         3.0         2.0   \n5607 2024-06-11   San Marino       Cyprus         1.0         4.0   \n5644 2024-06-11  Puerto Rico     Anguilla         8.0         0.0   \n\n                        tournament         city      country  neutral  \n5615  FIFA World Cup qualification       Agadir      Morocco    False  \n5616  FIFA World Cup qualification     Lilongwe       Malawi     True  \n5617  FIFA World Cup qualification  Franceville        Gabon    False  \n5607                      Friendly   Serravalle   San Marino    False  \n5644  FIFA World Cup qualification      Bayamón  Puerto Rico    False  ",
            "text/html": "<div>\n<style scoped>\n    .dataframe tbody tr th:only-of-type {\n        vertical-align: middle;\n    }\n\n    .dataframe tbody tr th {\n        vertical-align: top;\n    }\n\n    .dataframe thead th {\n        text-align: right;\n    }\n</style>\n<table border=\"1\" class=\"dataframe\">\n  <thead>\n    <tr style=\"text-align: right;\">\n      <th></th>\n      <th>date</th>\n      <th>home_team</th>\n      <th>away_team</th>\n      <th>home_score</th>\n      <th>away_score</th>\n      <th>tournament</th>\n      <th>city</th>\n      <th>country</th>\n      <th>neutral</th>\n    </tr>\n  </thead>\n  <tbody>\n    <tr>\n      <th>5615</th>\n      <td>2024-06-11</td>\n      <td>Morocco</td>\n      <td>Congo</td>\n      <td>6.0</td>\n      <td>0.0</td>\n      <td>FIFA World Cup qualification</td>\n      <td>Agadir</td>\n      <td>Morocco</td>\n      <td>False</td>\n    </tr>\n    <tr>\n      <th>5616</th>\n      <td>2024-06-11</td>\n      <td>Kenya</td>\n      <td>Ivory Coast</td>\n      <td>0.0</td>\n      <td>0.0</td>\n      <td>FIFA World Cup qualification</td>\n      <td>Lilongwe</td>\n      <td>Malawi</td>\n      <td>True</td>\n    </tr>\n    <tr>\n      <th>5617</th>\n      <td>2024-06-11</td>\n      <td>Gabon</td>\n      <td>Gambia</td>\n      <td>3.0</td>\n      <td>2.0</td>\n      <td>FIFA World Cup qualification</td>\n      <td>Franceville</td>\n      <td>Gabon</td>\n      <td>False</td>\n    </tr>\n    <tr>\n      <th>5607</th>\n      <td>2024-06-11</td>\n      <td>San Marino</td>\n      <td>Cyprus</td>\n      <td>1.0</td>\n      <td>4.0</td>\n      <td>Friendly</td>\n      <td>Serravalle</td>\n      <td>San Marino</td>\n      <td>False</td>\n    </tr>\n    <tr>\n      <th>5644</th>\n      <td>2024-06-11</td>\n      <td>Puerto Rico</td>\n      <td>Anguilla</td>\n      <td>8.0</td>\n      <td>0.0</td>\n      <td>FIFA World Cup qualification</td>\n      <td>Bayamón</td>\n      <td>Puerto Rico</td>\n      <td>False</td>\n    </tr>\n  </tbody>\n</table>\n</div>"
          },
          "metadata": {}
        }
      ]
    },
    {
      "cell_type": "code",
      "source": [
        "df.home_team.value_counts()"
      ],
      "metadata": {
        "execution": {
          "iopub.status.busy": "2024-06-14T18:09:15.387841Z",
          "iopub.execute_input": "2024-06-14T18:09:15.388223Z",
          "iopub.status.idle": "2024-06-14T18:09:15.402335Z",
          "shell.execute_reply.started": "2024-06-14T18:09:15.388189Z",
          "shell.execute_reply": "2024-06-14T18:09:15.401031Z"
        },
        "trusted": true,
        "id": "A9jR2Pyg8yw9",
        "outputId": "88c53c5f-578c-4652-bba9-8bca081b9bad"
      },
      "execution_count": null,
      "outputs": [
        {
          "execution_count": 11,
          "output_type": "execute_result",
          "data": {
            "text/plain": "United States     66\nQatar             59\nJapan             58\nMexico            58\nBahrain           57\n                  ..\nAymara             1\nCascadia           1\nChagos Islands     1\nLuhansk PR         1\nTibet              1\nName: home_team, Length: 267, dtype: int64"
          },
          "metadata": {}
        }
      ]
    },
    {
      "cell_type": "code",
      "source": [
        "rank = pd.read_csv(\"/kaggle/input/fifaworldranking/fifa_ranking-2024-04-04.csv\")"
      ],
      "metadata": {
        "execution": {
          "iopub.status.busy": "2024-06-14T18:09:15.403771Z",
          "iopub.execute_input": "2024-06-14T18:09:15.404123Z",
          "iopub.status.idle": "2024-06-14T18:09:15.525133Z",
          "shell.execute_reply.started": "2024-06-14T18:09:15.404091Z",
          "shell.execute_reply": "2024-06-14T18:09:15.523942Z"
        },
        "trusted": true,
        "id": "_D2NO0Z18yw9"
      },
      "execution_count": null,
      "outputs": []
    },
    {
      "cell_type": "code",
      "source": [
        "rank[\"rank_date\"] = pd.to_datetime(rank[\"rank_date\"])\n",
        "rank = rank[(rank[\"rank_date\"] >= \"2018-8-1\")].reset_index(drop=True)\n"
      ],
      "metadata": {
        "execution": {
          "iopub.status.busy": "2024-06-14T18:09:15.526621Z",
          "iopub.execute_input": "2024-06-14T18:09:15.527064Z",
          "iopub.status.idle": "2024-06-14T18:09:15.551324Z",
          "shell.execute_reply.started": "2024-06-14T18:09:15.527022Z",
          "shell.execute_reply": "2024-06-14T18:09:15.550125Z"
        },
        "trusted": true,
        "id": "GNbhun7j8yw-"
      },
      "execution_count": null,
      "outputs": []
    },
    {
      "cell_type": "markdown",
      "source": [
        "Some teams in the World Cup have different names in the ranking's dataset. So, it's needed to adjust."
      ],
      "metadata": {
        "id": "syZl4I7Q8yw_"
      }
    },
    {
      "cell_type": "code",
      "source": [
        "rank[\"country_full\"] = rank[\"country_full\"].str.replace(\"IR Iran\", \"Iran\").str.replace(\"Korea Republic\", \"South Korea\").str.replace(\"USA\", \"United States\")"
      ],
      "metadata": {
        "execution": {
          "iopub.status.busy": "2024-06-14T18:09:15.553155Z",
          "iopub.execute_input": "2024-06-14T18:09:15.553615Z",
          "iopub.status.idle": "2024-06-14T18:09:15.582953Z",
          "shell.execute_reply.started": "2024-06-14T18:09:15.553544Z",
          "shell.execute_reply": "2024-06-14T18:09:15.581861Z"
        },
        "trusted": true,
        "id": "MVJndCZx8yw_"
      },
      "execution_count": null,
      "outputs": []
    },
    {
      "cell_type": "markdown",
      "source": [
        "The merge is made in order to get a dataset FIFA games and its rankings."
      ],
      "metadata": {
        "id": "xdNGdy9A8yw_"
      }
    },
    {
      "cell_type": "code",
      "source": [
        "rank = rank.set_index(['rank_date']).groupby(['country_full'], group_keys=False).resample('D').first().fillna(method='ffill').reset_index()"
      ],
      "metadata": {
        "execution": {
          "iopub.status.busy": "2024-06-14T18:09:15.584302Z",
          "iopub.execute_input": "2024-06-14T18:09:15.584689Z",
          "iopub.status.idle": "2024-06-14T18:09:16.520117Z",
          "shell.execute_reply.started": "2024-06-14T18:09:15.584654Z",
          "shell.execute_reply": "2024-06-14T18:09:16.518969Z"
        },
        "trusted": true,
        "id": "43u40NHg8yxA"
      },
      "execution_count": null,
      "outputs": []
    },
    {
      "cell_type": "code",
      "source": [
        "df_wc_ranked = df.merge(rank[[\"country_full\", \"total_points\", \"previous_points\", \"rank\", \"rank_change\", \"rank_date\"]], left_on=[\"date\", \"home_team\"], right_on=[\"rank_date\", \"country_full\"]).drop([\"rank_date\", \"country_full\"], axis=1)\n",
        "\n",
        "df_wc_ranked = df_wc_ranked.merge(rank[[\"country_full\", \"total_points\", \"previous_points\", \"rank\", \"rank_change\", \"rank_date\"]], left_on=[\"date\", \"away_team\"], right_on=[\"rank_date\", \"country_full\"], suffixes=(\"_home\", \"_away\")).drop([\"rank_date\", \"country_full\"], axis=1)"
      ],
      "metadata": {
        "execution": {
          "iopub.status.busy": "2024-06-14T18:09:16.521523Z",
          "iopub.execute_input": "2024-06-14T18:09:16.521911Z",
          "iopub.status.idle": "2024-06-14T18:09:16.731658Z",
          "shell.execute_reply.started": "2024-06-14T18:09:16.521877Z",
          "shell.execute_reply": "2024-06-14T18:09:16.730357Z"
        },
        "trusted": true,
        "id": "j1R4sAi08yxA"
      },
      "execution_count": null,
      "outputs": []
    },
    {
      "cell_type": "code",
      "source": [
        "print(df_wc_ranked)"
      ],
      "metadata": {
        "execution": {
          "iopub.status.busy": "2024-06-14T18:09:16.733338Z",
          "iopub.execute_input": "2024-06-14T18:09:16.734234Z",
          "iopub.status.idle": "2024-06-14T18:09:16.757646Z",
          "shell.execute_reply.started": "2024-06-14T18:09:16.734182Z",
          "shell.execute_reply": "2024-06-14T18:09:16.756253Z"
        },
        "trusted": true,
        "id": "EyUqqU9B8yxA",
        "outputId": "85733d19-3879-477b-e619-ad29891a29dc"
      },
      "execution_count": null,
      "outputs": [
        {
          "name": "stdout",
          "text": "           date  home_team             away_team  home_score  away_score  \\\n0    2018-08-18    Andorra  United Arab Emirates         0.0         0.0   \n1    2018-08-18    Grenada               Jamaica         1.0         5.0   \n2    2018-08-18  Guatemala                  Cuba         1.0         0.0   \n3    2018-08-20   Barbados               Jamaica         2.0         2.0   \n4    2018-08-26   Barbados                  Cuba         0.0         0.0   \n...         ...        ...                   ...         ...         ...   \n4636 2024-03-26   Scotland      Northern Ireland         0.0         1.0   \n4637 2024-03-26    Senegal                 Benin         1.0         0.0   \n4638 2024-03-26   Slovenia              Portugal         2.0         0.0   \n4639 2024-03-26      Spain                Brazil         3.0         3.0   \n4640 2024-03-26    Finland               Estonia         2.0         1.0   \n\n     tournament            city    country  neutral  total_points_home  \\\n0      Friendly          Grödig    Austria     True            1120.00   \n1      Friendly    St. George's    Grenada    False             980.00   \n2      Friendly  Quetzaltenango  Guatemala    False            1064.00   \n3      Friendly      Bridgetown   Barbados    False            1005.00   \n4      Friendly      Bridgetown   Barbados    False            1005.00   \n...         ...             ...        ...      ...                ...   \n4636   Friendly         Glasgow   Scotland    False            1506.89   \n4637   Friendly          Amiens     France     True            1620.74   \n4638   Friendly       Ljubljana   Slovenia    False            1431.40   \n4639   Friendly          Madrid      Spain    False            1732.64   \n4640   Friendly        Helsinki    Finland    False            1401.31   \n\n      previous_points_home  rank_home  rank_change_home  total_points_away  \\\n0                  1120.00      130.0               0.0            1312.00   \n1                   980.00      168.0               0.0            1400.00   \n2                  1064.00      146.0               0.0             940.00   \n3                  1008.00      160.0               0.0            1400.00   \n4                  1008.00      160.0               0.0             940.00   \n...                    ...        ...               ...                ...   \n4636               1506.89       34.0              -2.0            1333.17   \n4637               1594.31       17.0              -3.0            1225.10   \n4638               1427.84       55.0               1.0            1745.06   \n4639               1732.64        8.0               0.0            1784.09   \n4640               1401.31       60.0               1.0            1148.76   \n\n      previous_points_away  rank_away  rank_change_away  \n0                  1312.00       77.0               0.0  \n1                  1400.00       54.0               0.0  \n2                   940.00      181.0               0.0  \n3                  1400.00       54.0               0.0  \n4                   940.00      181.0               0.0  \n...                    ...        ...               ...  \n4636               1333.17       74.0               2.0  \n4637               1225.10       98.0               1.0  \n4638               1745.06        7.0               0.0  \n4639               1784.09        5.0               0.0  \n4640               1149.70      123.0               1.0  \n\n[4641 rows x 17 columns]\n",
          "output_type": "stream"
        }
      ]
    },
    {
      "cell_type": "code",
      "source": [
        "Now, we have the data ready to create features based on the games' results and FIFA rankings.\n",
        "\n",
        "# Features Engineering\n",
        "\n",
        "The idea here is to create possible features that have impact on predicting football games. By intuition, we say that features that impact could be:\n",
        "\n",
        "- Past game points made\n",
        "- Past goals scored and suffered\n",
        "- The importance of game (friendly or not)\n",
        "- Rank of the teams\n",
        "- Rank increasement of the teams\n",
        "- Goals made and suffered by ranking faced\n",
        "\n",
        "So, the first thing to do is create the feature that says which team won and how much points they made at game."
      ],
      "metadata": {
        "execution": {
          "iopub.status.busy": "2024-06-14T18:09:16.758964Z",
          "iopub.execute_input": "2024-06-14T18:09:16.759438Z",
          "iopub.status.idle": "2024-06-14T18:09:16.777976Z",
          "shell.execute_reply.started": "2024-06-14T18:09:16.759391Z",
          "shell.execute_reply": "2024-06-14T18:09:16.769591Z"
        },
        "trusted": true,
        "id": "N9MMEylB8yxB",
        "outputId": "05f9e661-495d-4904-eb33-76901624c829"
      },
      "execution_count": null,
      "outputs": [
        {
          "traceback": [
            "\u001b[0;36m  File \u001b[0;32m\"/tmp/ipykernel_27/1342392433.py\"\u001b[0;36m, line \u001b[0;32m1\u001b[0m\n\u001b[0;31m    Now, we have the data ready to create features based on the games' results and FIFA rankings.\u001b[0m\n\u001b[0m               ^\u001b[0m\n\u001b[0;31mSyntaxError\u001b[0m\u001b[0;31m:\u001b[0m invalid syntax\n"
          ],
          "ename": "SyntaxError",
          "evalue": "invalid syntax (1342392433.py, line 1)",
          "output_type": "error"
        }
      ]
    },
    {
      "cell_type": "code",
      "source": [
        "df_wc_ranked[(df_wc_ranked.home_team == \"Brazil\") | (df_wc_ranked.away_team == \"Brazil\")].tail(10)"
      ],
      "metadata": {
        "execution": {
          "iopub.status.busy": "2024-06-14T18:09:27.725011Z",
          "iopub.execute_input": "2024-06-14T18:09:27.725402Z",
          "iopub.status.idle": "2024-06-14T18:09:27.762014Z",
          "shell.execute_reply.started": "2024-06-14T18:09:27.725359Z",
          "shell.execute_reply": "2024-06-14T18:09:27.760841Z"
        },
        "trusted": true,
        "id": "FT8FThUb8yxB",
        "outputId": "7ef6820b-651f-44b9-f315-2446070ff792"
      },
      "execution_count": null,
      "outputs": [
        {
          "execution_count": 19,
          "output_type": "execute_result",
          "data": {
            "text/plain": "           date home_team  away_team  home_score  away_score  \\\n3778 2023-06-17    Brazil     Guinea         4.0         1.0   \n3833 2023-06-20    Brazil    Senegal         2.0         4.0   \n3967 2023-09-08    Brazil    Bolivia         5.0         1.0   \n4035 2023-09-12      Peru     Brazil         0.0         1.0   \n4078 2023-10-12    Brazil  Venezuela         1.0         1.0   \n4174 2023-10-17   Uruguay     Brazil         2.0         0.0   \n4223 2023-11-16  Colombia     Brazil         2.0         1.0   \n4332 2023-11-21    Brazil  Argentina         0.0         1.0   \n4574 2024-03-23   England     Brazil         0.0         1.0   \n4639 2024-03-26     Spain     Brazil         3.0         3.0   \n\n                        tournament            city   country  neutral  \\\n3778                      Friendly       Barcelona     Spain     True   \n3833                      Friendly          Lisbon  Portugal     True   \n3967  FIFA World Cup qualification           Belém    Brazil    False   \n4035  FIFA World Cup qualification            Lima      Peru    False   \n4078  FIFA World Cup qualification          Cuiabá    Brazil    False   \n4174  FIFA World Cup qualification      Montevideo   Uruguay    False   \n4223  FIFA World Cup qualification    Barranquilla  Colombia    False   \n4332  FIFA World Cup qualification  Rio de Janeiro    Brazil    False   \n4574                      Friendly          London   England    False   \n4639                      Friendly          Madrid     Spain    False   \n\n      total_points_home  previous_points_home  rank_home  rank_change_home  \\\n3778            1834.21               1840.77        3.0               2.0   \n3833            1834.21               1840.77        3.0               2.0   \n3967            1828.27               1828.27        3.0               0.0   \n4035            1561.20               1561.20       21.0               0.0   \n4078            1837.61               1828.27        3.0               0.0   \n4174            1626.51               1633.13       17.0               1.0   \n4223            1626.60               1629.60       17.0               1.0   \n4332            1812.20               1837.61        3.0               0.0   \n4574            1800.05               1800.05        3.0               0.0   \n4639            1732.64               1732.64        8.0               0.0   \n\n      total_points_away  previous_points_away  rank_away  rank_change_away  \n3778            1305.92               1290.47       79.0              -4.0  \n3833            1613.21               1603.98       18.0              -1.0  \n3967            1295.09               1295.09       83.0               0.0  \n4035            1828.27               1828.27        3.0               0.0  \n4078            1422.83               1417.23       53.0              -4.0  \n4174            1837.61               1828.27        3.0               0.0  \n4223            1812.20               1837.61        3.0               0.0  \n4332            1861.29               1851.41        1.0               0.0  \n4574            1784.09               1784.09        5.0               0.0  \n4639            1784.09               1784.09        5.0               0.0  ",
            "text/html": "<div>\n<style scoped>\n    .dataframe tbody tr th:only-of-type {\n        vertical-align: middle;\n    }\n\n    .dataframe tbody tr th {\n        vertical-align: top;\n    }\n\n    .dataframe thead th {\n        text-align: right;\n    }\n</style>\n<table border=\"1\" class=\"dataframe\">\n  <thead>\n    <tr style=\"text-align: right;\">\n      <th></th>\n      <th>date</th>\n      <th>home_team</th>\n      <th>away_team</th>\n      <th>home_score</th>\n      <th>away_score</th>\n      <th>tournament</th>\n      <th>city</th>\n      <th>country</th>\n      <th>neutral</th>\n      <th>total_points_home</th>\n      <th>previous_points_home</th>\n      <th>rank_home</th>\n      <th>rank_change_home</th>\n      <th>total_points_away</th>\n      <th>previous_points_away</th>\n      <th>rank_away</th>\n      <th>rank_change_away</th>\n    </tr>\n  </thead>\n  <tbody>\n    <tr>\n      <th>3778</th>\n      <td>2023-06-17</td>\n      <td>Brazil</td>\n      <td>Guinea</td>\n      <td>4.0</td>\n      <td>1.0</td>\n      <td>Friendly</td>\n      <td>Barcelona</td>\n      <td>Spain</td>\n      <td>True</td>\n      <td>1834.21</td>\n      <td>1840.77</td>\n      <td>3.0</td>\n      <td>2.0</td>\n      <td>1305.92</td>\n      <td>1290.47</td>\n      <td>79.0</td>\n      <td>-4.0</td>\n    </tr>\n    <tr>\n      <th>3833</th>\n      <td>2023-06-20</td>\n      <td>Brazil</td>\n      <td>Senegal</td>\n      <td>2.0</td>\n      <td>4.0</td>\n      <td>Friendly</td>\n      <td>Lisbon</td>\n      <td>Portugal</td>\n      <td>True</td>\n      <td>1834.21</td>\n      <td>1840.77</td>\n      <td>3.0</td>\n      <td>2.0</td>\n      <td>1613.21</td>\n      <td>1603.98</td>\n      <td>18.0</td>\n      <td>-1.0</td>\n    </tr>\n    <tr>\n      <th>3967</th>\n      <td>2023-09-08</td>\n      <td>Brazil</td>\n      <td>Bolivia</td>\n      <td>5.0</td>\n      <td>1.0</td>\n      <td>FIFA World Cup qualification</td>\n      <td>Belém</td>\n      <td>Brazil</td>\n      <td>False</td>\n      <td>1828.27</td>\n      <td>1828.27</td>\n      <td>3.0</td>\n      <td>0.0</td>\n      <td>1295.09</td>\n      <td>1295.09</td>\n      <td>83.0</td>\n      <td>0.0</td>\n    </tr>\n    <tr>\n      <th>4035</th>\n      <td>2023-09-12</td>\n      <td>Peru</td>\n      <td>Brazil</td>\n      <td>0.0</td>\n      <td>1.0</td>\n      <td>FIFA World Cup qualification</td>\n      <td>Lima</td>\n      <td>Peru</td>\n      <td>False</td>\n      <td>1561.20</td>\n      <td>1561.20</td>\n      <td>21.0</td>\n      <td>0.0</td>\n      <td>1828.27</td>\n      <td>1828.27</td>\n      <td>3.0</td>\n      <td>0.0</td>\n    </tr>\n    <tr>\n      <th>4078</th>\n      <td>2023-10-12</td>\n      <td>Brazil</td>\n      <td>Venezuela</td>\n      <td>1.0</td>\n      <td>1.0</td>\n      <td>FIFA World Cup qualification</td>\n      <td>Cuiabá</td>\n      <td>Brazil</td>\n      <td>False</td>\n      <td>1837.61</td>\n      <td>1828.27</td>\n      <td>3.0</td>\n      <td>0.0</td>\n      <td>1422.83</td>\n      <td>1417.23</td>\n      <td>53.0</td>\n      <td>-4.0</td>\n    </tr>\n    <tr>\n      <th>4174</th>\n      <td>2023-10-17</td>\n      <td>Uruguay</td>\n      <td>Brazil</td>\n      <td>2.0</td>\n      <td>0.0</td>\n      <td>FIFA World Cup qualification</td>\n      <td>Montevideo</td>\n      <td>Uruguay</td>\n      <td>False</td>\n      <td>1626.51</td>\n      <td>1633.13</td>\n      <td>17.0</td>\n      <td>1.0</td>\n      <td>1837.61</td>\n      <td>1828.27</td>\n      <td>3.0</td>\n      <td>0.0</td>\n    </tr>\n    <tr>\n      <th>4223</th>\n      <td>2023-11-16</td>\n      <td>Colombia</td>\n      <td>Brazil</td>\n      <td>2.0</td>\n      <td>1.0</td>\n      <td>FIFA World Cup qualification</td>\n      <td>Barranquilla</td>\n      <td>Colombia</td>\n      <td>False</td>\n      <td>1626.60</td>\n      <td>1629.60</td>\n      <td>17.0</td>\n      <td>1.0</td>\n      <td>1812.20</td>\n      <td>1837.61</td>\n      <td>3.0</td>\n      <td>0.0</td>\n    </tr>\n    <tr>\n      <th>4332</th>\n      <td>2023-11-21</td>\n      <td>Brazil</td>\n      <td>Argentina</td>\n      <td>0.0</td>\n      <td>1.0</td>\n      <td>FIFA World Cup qualification</td>\n      <td>Rio de Janeiro</td>\n      <td>Brazil</td>\n      <td>False</td>\n      <td>1812.20</td>\n      <td>1837.61</td>\n      <td>3.0</td>\n      <td>0.0</td>\n      <td>1861.29</td>\n      <td>1851.41</td>\n      <td>1.0</td>\n      <td>0.0</td>\n    </tr>\n    <tr>\n      <th>4574</th>\n      <td>2024-03-23</td>\n      <td>England</td>\n      <td>Brazil</td>\n      <td>0.0</td>\n      <td>1.0</td>\n      <td>Friendly</td>\n      <td>London</td>\n      <td>England</td>\n      <td>False</td>\n      <td>1800.05</td>\n      <td>1800.05</td>\n      <td>3.0</td>\n      <td>0.0</td>\n      <td>1784.09</td>\n      <td>1784.09</td>\n      <td>5.0</td>\n      <td>0.0</td>\n    </tr>\n    <tr>\n      <th>4639</th>\n      <td>2024-03-26</td>\n      <td>Spain</td>\n      <td>Brazil</td>\n      <td>3.0</td>\n      <td>3.0</td>\n      <td>Friendly</td>\n      <td>Madrid</td>\n      <td>Spain</td>\n      <td>False</td>\n      <td>1732.64</td>\n      <td>1732.64</td>\n      <td>8.0</td>\n      <td>0.0</td>\n      <td>1784.09</td>\n      <td>1784.09</td>\n      <td>5.0</td>\n      <td>0.0</td>\n    </tr>\n  </tbody>\n</table>\n</div>"
          },
          "metadata": {}
        }
      ]
    },
    {
      "cell_type": "code",
      "source": [
        "df = df_wc_ranked"
      ],
      "metadata": {
        "execution": {
          "iopub.status.busy": "2024-06-14T18:15:03.005125Z",
          "iopub.execute_input": "2024-06-14T18:15:03.005527Z",
          "iopub.status.idle": "2024-06-14T18:15:03.011188Z",
          "shell.execute_reply.started": "2024-06-14T18:15:03.005496Z",
          "shell.execute_reply": "2024-06-14T18:15:03.009855Z"
        },
        "trusted": true,
        "id": "autDpSnA8yxC"
      },
      "execution_count": null,
      "outputs": []
    },
    {
      "cell_type": "code",
      "source": [
        "def result_finder(home, away):\n",
        "    if home > away:\n",
        "        return pd.Series([0, 3, 0])\n",
        "    if home < away:\n",
        "        return pd.Series([1, 0, 3])\n",
        "    else:\n",
        "        return pd.Series([2, 1, 1])\n",
        "\n",
        "results = df.apply(lambda x: result_finder(x[\"home_score\"], x[\"away_score\"]), axis=1)"
      ],
      "metadata": {
        "execution": {
          "iopub.status.busy": "2024-06-14T18:09:16.783358Z",
          "iopub.status.idle": "2024-06-14T18:09:16.78383Z",
          "shell.execute_reply.started": "2024-06-14T18:09:16.783611Z",
          "shell.execute_reply": "2024-06-14T18:09:16.783632Z"
        },
        "trusted": true,
        "id": "gvjW5ta18yxC"
      },
      "execution_count": null,
      "outputs": []
    },
    {
      "cell_type": "code",
      "source": [
        "df[[\"result\", \"home_team_points\", \"away_team_points\"]] = results"
      ],
      "metadata": {
        "execution": {
          "iopub.status.busy": "2024-06-14T18:09:16.78504Z",
          "iopub.status.idle": "2024-06-14T18:09:16.78544Z",
          "shell.execute_reply.started": "2024-06-14T18:09:16.785248Z",
          "shell.execute_reply": "2024-06-14T18:09:16.785267Z"
        },
        "trusted": true,
        "id": "mwCqX85n8yxC"
      },
      "execution_count": null,
      "outputs": []
    },
    {
      "cell_type": "markdown",
      "source": [
        "The game points are 3 for win, 1 for draw and 0 for lose and are different than the FIFA rank points that are already in the database. Also, it's supposed that FIFA Rank points and FIFA Ranking of the same team are negative correlated, and we should use only one of them to create new features. This supposition is checked below:"
      ],
      "metadata": {
        "id": "Wl2GjEvK8yxD"
      }
    },
    {
      "cell_type": "code",
      "source": [
        "import seaborn as sns\n",
        "import matplotlib.pyplot as plt\n",
        "\n",
        "plt.figure(figsize=(15, 10))\n",
        "sns.heatmap(df[[\"total_points_home\", \"rank_home\", \"total_points_away\", \"rank_away\"]].corr())\n",
        "plt.show()"
      ],
      "metadata": {
        "execution": {
          "iopub.status.busy": "2024-06-14T18:09:16.787483Z",
          "iopub.status.idle": "2024-06-14T18:09:16.787959Z",
          "shell.execute_reply.started": "2024-06-14T18:09:16.787741Z",
          "shell.execute_reply": "2024-06-14T18:09:16.787763Z"
        },
        "trusted": true,
        "id": "SLjTYOaP8yxD"
      },
      "execution_count": null,
      "outputs": []
    },
    {
      "cell_type": "markdown",
      "source": [
        "Now, we create columns that will help in the creation of the features: ranking difference, points won at the game vs. team faced rank, and goals difference in the game. All features that are not differences should be created for the two teams (away and home)."
      ],
      "metadata": {
        "id": "PLwCbmey8yxD"
      }
    },
    {
      "cell_type": "code",
      "source": [
        "df[\"rank_dif\"] = df[\"rank_home\"] - df[\"rank_away\"]\n",
        "df[\"sg\"] = df[\"home_score\"] - df[\"away_score\"]\n",
        "df[\"points_home_by_rank\"] = df[\"home_team_points\"]/df[\"rank_away\"]\n",
        "df[\"points_away_by_rank\"] = df[\"away_team_points\"]/df[\"rank_home\"]"
      ],
      "metadata": {
        "execution": {
          "iopub.status.busy": "2024-06-14T18:09:16.789435Z",
          "iopub.status.idle": "2024-06-14T18:09:16.789885Z",
          "shell.execute_reply.started": "2024-06-14T18:09:16.78968Z",
          "shell.execute_reply": "2024-06-14T18:09:16.789702Z"
        },
        "trusted": true,
        "id": "ZkqzFeGz8yxF"
      },
      "execution_count": null,
      "outputs": []
    },
    {
      "cell_type": "markdown",
      "source": [
        "In order to create the features, I'll separate the dataset in home team's and away team's dataset, unify them and calculate the past game values. After that, I'll separate again and merge them, retrieving the original dataset. This proccess optimizes the creation of the features."
      ],
      "metadata": {
        "id": "Pk4sumxY8yxG"
      }
    },
    {
      "cell_type": "code",
      "source": [
        "home_team = df[[\"date\", \"home_team\", \"home_score\", \"away_score\", \"rank_home\", \"rank_away\",\"rank_change_home\", \"total_points_home\", \"result\", \"rank_dif\", \"points_home_by_rank\", \"home_team_points\"]]\n",
        "\n",
        "away_team = df[[\"date\", \"away_team\", \"away_score\", \"home_score\", \"rank_away\", \"rank_home\",\"rank_change_away\", \"total_points_away\", \"result\", \"rank_dif\", \"points_away_by_rank\", \"away_team_points\"]]"
      ],
      "metadata": {
        "execution": {
          "iopub.status.busy": "2024-06-14T18:09:16.791592Z",
          "iopub.status.idle": "2024-06-14T18:09:16.792193Z",
          "shell.execute_reply.started": "2024-06-14T18:09:16.791897Z",
          "shell.execute_reply": "2024-06-14T18:09:16.791926Z"
        },
        "trusted": true,
        "id": "u2035D-T8yxH"
      },
      "execution_count": null,
      "outputs": []
    },
    {
      "cell_type": "code",
      "source": [
        "home_team.columns = [h.replace(\"home_\", \"\").replace(\"_home\", \"\").replace(\"away_\", \"suf_\").replace(\"_away\", \"_suf\") for h in home_team.columns]\n",
        "\n",
        "away_team.columns = [a.replace(\"away_\", \"\").replace(\"_away\", \"\").replace(\"home_\", \"suf_\").replace(\"_home\", \"_suf\") for a in away_team.columns]"
      ],
      "metadata": {
        "execution": {
          "iopub.status.busy": "2024-06-14T18:09:16.79335Z",
          "iopub.status.idle": "2024-06-14T18:09:16.793926Z",
          "shell.execute_reply.started": "2024-06-14T18:09:16.79363Z",
          "shell.execute_reply": "2024-06-14T18:09:16.793658Z"
        },
        "trusted": true,
        "id": "8vu06u5F8yxH"
      },
      "execution_count": null,
      "outputs": []
    },
    {
      "cell_type": "code",
      "source": [
        "team_stats = home_team.append(away_team)#.sort_values(\"date\")"
      ],
      "metadata": {
        "execution": {
          "iopub.status.busy": "2024-06-14T18:09:16.796283Z",
          "iopub.status.idle": "2024-06-14T18:09:16.796872Z",
          "shell.execute_reply.started": "2024-06-14T18:09:16.79657Z",
          "shell.execute_reply": "2024-06-14T18:09:16.796599Z"
        },
        "trusted": true,
        "id": "dLPBz6No8yxI"
      },
      "execution_count": null,
      "outputs": []
    },
    {
      "cell_type": "code",
      "source": [
        "#this column will be used to calculate features for simulation\n",
        "team_stats_raw = team_stats.copy()"
      ],
      "metadata": {
        "execution": {
          "iopub.status.busy": "2024-06-14T18:09:16.798719Z",
          "iopub.status.idle": "2024-06-14T18:09:16.799281Z",
          "shell.execute_reply.started": "2024-06-14T18:09:16.799004Z",
          "shell.execute_reply": "2024-06-14T18:09:16.799031Z"
        },
        "trusted": true,
        "id": "OHCjhjNg8yxI"
      },
      "execution_count": null,
      "outputs": []
    },
    {
      "cell_type": "markdown",
      "source": [
        "Now, we have a database ready to create predictive features. They will be:\n",
        "\n",
        "- Mean goals of the team in World Cup Cycle.\n",
        "- Mean goals of the team in last 5 games.\n",
        "- Mean goals suffered of the team in World Cup Cycle.\n",
        "- Mean goals suffered of the team in last 5 games.\n",
        "- Mean FIFA Rank that team faced in World Cup Cycle.\n",
        "- Mean FIFA Rank that team faced in last 5 games.\n",
        "- FIFA Points won at the cycle.\n",
        "- FIFA Points won in last 5 games.\n",
        "- Mean game points at the Cycle.\n",
        "- Mean game points at last 5 games.\n",
        "- Mean game points by rank faced at the Cycle.\n",
        "- Mean game points by rank faced at last 5 games."
      ],
      "metadata": {
        "id": "2m8diqvq8yxI"
      }
    },
    {
      "cell_type": "code",
      "source": [
        "stats_val = []\n",
        "\n",
        "for index, row in team_stats.iterrows():\n",
        "    team = row[\"team\"]\n",
        "    date = row[\"date\"]\n",
        "    past_games = team_stats.loc[(team_stats[\"team\"] == team) & (team_stats[\"date\"] < date)].sort_values(by=['date'], ascending=False)\n",
        "    last5 = past_games.head(5)\n",
        "\n",
        "    goals = past_games[\"score\"].mean()\n",
        "    goals_l5 = last5[\"score\"].mean()\n",
        "\n",
        "    goals_suf = past_games[\"suf_score\"].mean()\n",
        "    goals_suf_l5 = last5[\"suf_score\"].mean()\n",
        "\n",
        "    rank = past_games[\"rank_suf\"].mean()\n",
        "    rank_l5 = last5[\"rank_suf\"].mean()\n",
        "\n",
        "    if len(last5) > 0:\n",
        "        points = past_games[\"total_points\"].values[0] - past_games[\"total_points\"].values[-1]#qtd de pontos ganhos\n",
        "        points_l5 = last5[\"total_points\"].values[0] - last5[\"total_points\"].values[-1]\n",
        "    else:\n",
        "        points = 0\n",
        "        points_l5 = 0\n",
        "\n",
        "    gp = past_games[\"team_points\"].mean()\n",
        "    gp_l5 = last5[\"team_points\"].mean()\n",
        "\n",
        "    gp_rank = past_games[\"points_by_rank\"].mean()\n",
        "    gp_rank_l5 = last5[\"points_by_rank\"].mean()\n",
        "\n",
        "    stats_val.append([goals, goals_l5, goals_suf, goals_suf_l5, rank, rank_l5, points, points_l5, gp, gp_l5, gp_rank, gp_rank_l5])"
      ],
      "metadata": {
        "execution": {
          "iopub.status.busy": "2024-06-14T18:09:16.800877Z",
          "iopub.status.idle": "2024-06-14T18:09:16.801435Z",
          "shell.execute_reply.started": "2024-06-14T18:09:16.801146Z",
          "shell.execute_reply": "2024-06-14T18:09:16.801175Z"
        },
        "trusted": true,
        "id": "txpIHwo28yxL"
      },
      "execution_count": null,
      "outputs": []
    },
    {
      "cell_type": "code",
      "source": [
        "stats_cols = [\"goals_mean\", \"goals_mean_l5\", \"goals_suf_mean\", \"goals_suf_mean_l5\", \"rank_mean\", \"rank_mean_l5\", \"points_mean\", \"points_mean_l5\", \"game_points_mean\", \"game_points_mean_l5\", \"game_points_rank_mean\", \"game_points_rank_mean_l5\"]\n",
        "\n",
        "stats_df = pd.DataFrame(stats_val, columns=stats_cols)\n",
        "\n",
        "full_df = pd.concat([team_stats.reset_index(drop=True), stats_df], axis=1, ignore_index=False)"
      ],
      "metadata": {
        "execution": {
          "iopub.status.busy": "2024-06-14T18:09:16.803318Z",
          "iopub.status.idle": "2024-06-14T18:09:16.803799Z",
          "shell.execute_reply.started": "2024-06-14T18:09:16.803536Z",
          "shell.execute_reply": "2024-06-14T18:09:16.803582Z"
        },
        "trusted": true,
        "id": "f7Dx-4e48yxM"
      },
      "execution_count": null,
      "outputs": []
    },
    {
      "cell_type": "code",
      "source": [
        "home_team_stats = full_df.iloc[:int(full_df.shape[0]/2),:]\n",
        "away_team_stats = full_df.iloc[int(full_df.shape[0]/2):,:]"
      ],
      "metadata": {
        "execution": {
          "iopub.status.busy": "2024-06-14T18:09:16.80515Z",
          "iopub.status.idle": "2024-06-14T18:09:16.805582Z",
          "shell.execute_reply.started": "2024-06-14T18:09:16.805363Z",
          "shell.execute_reply": "2024-06-14T18:09:16.805383Z"
        },
        "trusted": true,
        "id": "omJ6FDiz8yxM"
      },
      "execution_count": null,
      "outputs": []
    },
    {
      "cell_type": "markdown",
      "source": [
        "The new columns:"
      ],
      "metadata": {
        "id": "qQZSeNCU8yxN"
      }
    },
    {
      "cell_type": "code",
      "source": [
        "home_team_stats.columns[-12:]"
      ],
      "metadata": {
        "execution": {
          "iopub.status.busy": "2024-06-14T18:09:16.807016Z",
          "iopub.status.idle": "2024-06-14T18:09:16.807436Z",
          "shell.execute_reply.started": "2024-06-14T18:09:16.807236Z",
          "shell.execute_reply": "2024-06-14T18:09:16.807256Z"
        },
        "trusted": true,
        "id": "zMwONQ5Q8yxN"
      },
      "execution_count": null,
      "outputs": []
    },
    {
      "cell_type": "code",
      "source": [
        "home_team_stats = home_team_stats[home_team_stats.columns[-12:]]\n",
        "away_team_stats = away_team_stats[away_team_stats.columns[-12:]]"
      ],
      "metadata": {
        "execution": {
          "iopub.status.busy": "2024-06-14T18:09:16.808955Z",
          "iopub.status.idle": "2024-06-14T18:09:16.809391Z",
          "shell.execute_reply.started": "2024-06-14T18:09:16.809175Z",
          "shell.execute_reply": "2024-06-14T18:09:16.809196Z"
        },
        "trusted": true,
        "id": "lkad0Czx8yxN"
      },
      "execution_count": null,
      "outputs": []
    },
    {
      "cell_type": "code",
      "source": [
        "home_team_stats.columns = ['home_'+str(col) for col in home_team_stats.columns]\n",
        "away_team_stats.columns = ['away_'+str(col) for col in away_team_stats.columns]"
      ],
      "metadata": {
        "execution": {
          "iopub.status.busy": "2024-06-14T18:09:16.810621Z",
          "iopub.status.idle": "2024-06-14T18:09:16.811023Z",
          "shell.execute_reply.started": "2024-06-14T18:09:16.810831Z",
          "shell.execute_reply": "2024-06-14T18:09:16.81085Z"
        },
        "trusted": true,
        "id": "1DsGG0pT8yxO"
      },
      "execution_count": null,
      "outputs": []
    },
    {
      "cell_type": "markdown",
      "source": [
        "In order to unify the database, is needed to add home_ and away_ suffix for each column. After that, the data is ready to be merged."
      ],
      "metadata": {
        "id": "7lKZW0ZY8yxO"
      }
    },
    {
      "cell_type": "code",
      "source": [
        "match_stats = pd.concat([home_team_stats, away_team_stats.reset_index(drop=True)], axis=1, ignore_index=False)"
      ],
      "metadata": {
        "execution": {
          "iopub.status.busy": "2024-06-14T18:09:16.812905Z",
          "iopub.status.idle": "2024-06-14T18:09:16.813319Z",
          "shell.execute_reply.started": "2024-06-14T18:09:16.813124Z",
          "shell.execute_reply": "2024-06-14T18:09:16.813145Z"
        },
        "trusted": true,
        "id": "L9qUFHnA8yxO"
      },
      "execution_count": null,
      "outputs": []
    },
    {
      "cell_type": "code",
      "source": [
        "full_df = pd.concat([df, match_stats.reset_index(drop=True)], axis=1, ignore_index=False)"
      ],
      "metadata": {
        "execution": {
          "iopub.status.busy": "2024-06-14T18:09:16.815681Z",
          "iopub.status.idle": "2024-06-14T18:09:16.816091Z",
          "shell.execute_reply.started": "2024-06-14T18:09:16.815898Z",
          "shell.execute_reply": "2024-06-14T18:09:16.815917Z"
        },
        "trusted": true,
        "id": "t9cDWgD08yxP"
      },
      "execution_count": null,
      "outputs": []
    },
    {
      "cell_type": "code",
      "source": [
        "full_df.columns"
      ],
      "metadata": {
        "execution": {
          "iopub.status.busy": "2024-06-14T18:09:16.817176Z",
          "iopub.status.idle": "2024-06-14T18:09:16.817623Z",
          "shell.execute_reply.started": "2024-06-14T18:09:16.817383Z",
          "shell.execute_reply": "2024-06-14T18:09:16.817402Z"
        },
        "trusted": true,
        "id": "aaDjjFke8yxP"
      },
      "execution_count": null,
      "outputs": []
    },
    {
      "cell_type": "markdown",
      "source": [
        "Now, to quantify game importance, is created a column that finds competition of the game."
      ],
      "metadata": {
        "id": "CIvm2AfG8yxP"
      }
    },
    {
      "cell_type": "code",
      "source": [
        "def find_friendly(x):\n",
        "    if x == \"Friendly\":\n",
        "        return 1\n",
        "    else: return 0\n",
        "\n",
        "full_df[\"is_friendly\"] = full_df[\"tournament\"].apply(lambda x: find_friendly(x))"
      ],
      "metadata": {
        "execution": {
          "iopub.status.busy": "2024-06-14T18:09:16.81973Z",
          "iopub.status.idle": "2024-06-14T18:09:16.820317Z",
          "shell.execute_reply.started": "2024-06-14T18:09:16.820023Z",
          "shell.execute_reply": "2024-06-14T18:09:16.820053Z"
        },
        "trusted": true,
        "id": "Iir0AWw08yxP"
      },
      "execution_count": null,
      "outputs": []
    },
    {
      "cell_type": "code",
      "source": [
        "full_df = pd.get_dummies(full_df, columns=[\"is_friendly\"])"
      ],
      "metadata": {
        "execution": {
          "iopub.status.busy": "2024-06-14T18:09:16.821702Z",
          "iopub.status.idle": "2024-06-14T18:09:16.822266Z",
          "shell.execute_reply.started": "2024-06-14T18:09:16.821978Z",
          "shell.execute_reply": "2024-06-14T18:09:16.822009Z"
        },
        "trusted": true,
        "id": "FLq17bGJ8yxQ"
      },
      "execution_count": null,
      "outputs": []
    },
    {
      "cell_type": "code",
      "source": [
        "full_df.columns"
      ],
      "metadata": {
        "execution": {
          "iopub.status.busy": "2024-06-14T18:09:16.825461Z",
          "iopub.status.idle": "2024-06-14T18:09:16.825901Z",
          "shell.execute_reply.started": "2024-06-14T18:09:16.825701Z",
          "shell.execute_reply": "2024-06-14T18:09:16.825721Z"
        },
        "trusted": true,
        "id": "XR2kQyBy8yxQ"
      },
      "execution_count": null,
      "outputs": []
    },
    {
      "cell_type": "markdown",
      "source": [
        "And, after that, we select only columns that will help in Features' analysis."
      ],
      "metadata": {
        "id": "2UOzslIC8yxR"
      }
    },
    {
      "cell_type": "code",
      "source": [
        "base_df = full_df[[\"date\", \"home_team\", \"away_team\", \"rank_home\", \"rank_away\",\"home_score\", \"away_score\",\"result\", \"rank_dif\", \"rank_change_home\", \"rank_change_away\", 'home_goals_mean',\n",
        "       'home_goals_mean_l5', 'home_goals_suf_mean', 'home_goals_suf_mean_l5',\n",
        "       'home_rank_mean', 'home_rank_mean_l5', 'home_points_mean',\n",
        "       'home_points_mean_l5', 'away_goals_mean', 'away_goals_mean_l5',\n",
        "       'away_goals_suf_mean', 'away_goals_suf_mean_l5', 'away_rank_mean',\n",
        "       'away_rank_mean_l5', 'away_points_mean', 'away_points_mean_l5','home_game_points_mean', 'home_game_points_mean_l5',\n",
        "       'home_game_points_rank_mean', 'home_game_points_rank_mean_l5','away_game_points_mean',\n",
        "       'away_game_points_mean_l5', 'away_game_points_rank_mean',\n",
        "       'away_game_points_rank_mean_l5',\n",
        "       'is_friendly_0', 'is_friendly_1']]\n",
        "\n",
        "base_df.tail()"
      ],
      "metadata": {
        "execution": {
          "iopub.status.busy": "2024-06-14T18:09:16.827329Z",
          "iopub.status.idle": "2024-06-14T18:09:16.827768Z",
          "shell.execute_reply.started": "2024-06-14T18:09:16.827534Z",
          "shell.execute_reply": "2024-06-14T18:09:16.827568Z"
        },
        "trusted": true,
        "id": "gJwM3EpJ8yxR"
      },
      "execution_count": null,
      "outputs": []
    },
    {
      "cell_type": "code",
      "source": [
        "base_df.isna().sum()"
      ],
      "metadata": {
        "execution": {
          "iopub.status.busy": "2024-06-14T18:09:16.828861Z",
          "iopub.status.idle": "2024-06-14T18:09:16.82926Z",
          "shell.execute_reply.started": "2024-06-14T18:09:16.829072Z",
          "shell.execute_reply": "2024-06-14T18:09:16.829091Z"
        },
        "trusted": true,
        "id": "7PQBVQjq8yxR"
      },
      "execution_count": null,
      "outputs": []
    },
    {
      "cell_type": "markdown",
      "source": [
        "The games with NA are the ones who mean could not be calculated (games from the beginning of the dataset). Those will be dropped."
      ],
      "metadata": {
        "id": "tVeEmSMl8yxS"
      }
    },
    {
      "cell_type": "code",
      "source": [
        "base_df_no_fg = base_df.dropna()"
      ],
      "metadata": {
        "execution": {
          "iopub.status.busy": "2024-06-14T18:09:16.831618Z",
          "iopub.status.idle": "2024-06-14T18:09:16.832096Z",
          "shell.execute_reply.started": "2024-06-14T18:09:16.831877Z",
          "shell.execute_reply": "2024-06-14T18:09:16.831899Z"
        },
        "trusted": true,
        "id": "bnRkpd6P8yxT"
      },
      "execution_count": null,
      "outputs": []
    },
    {
      "cell_type": "markdown",
      "source": [
        "# Data Analysis\n",
        "\n",
        "Now, we need to analyze all features that were created and check if they have predictive power. Also, if they don't have, we need to create some that have, like differences of home and away teams. To analyze the predictive power, I'll assign draw games as a lose of the home team and will create a binary problem."
      ],
      "metadata": {
        "id": "2JV23bK88yxT"
      }
    },
    {
      "cell_type": "code",
      "source": [
        "df = base_df_no_fg"
      ],
      "metadata": {
        "execution": {
          "iopub.status.busy": "2024-06-14T18:09:16.834391Z",
          "iopub.status.idle": "2024-06-14T18:09:16.834855Z",
          "shell.execute_reply.started": "2024-06-14T18:09:16.834644Z",
          "shell.execute_reply": "2024-06-14T18:09:16.834665Z"
        },
        "trusted": true,
        "id": "lF6TO8fa8yxT"
      },
      "execution_count": null,
      "outputs": []
    },
    {
      "cell_type": "code",
      "source": [
        "def no_draw(x):\n",
        "    if x == 2:\n",
        "        return 1\n",
        "    else:\n",
        "        return x\n",
        "\n",
        "df[\"target\"] = df[\"result\"].apply(lambda x: no_draw(x))"
      ],
      "metadata": {
        "execution": {
          "iopub.status.busy": "2024-06-14T18:09:16.840087Z",
          "iopub.status.idle": "2024-06-14T18:09:16.840538Z",
          "shell.execute_reply.started": "2024-06-14T18:09:16.840334Z",
          "shell.execute_reply": "2024-06-14T18:09:16.840354Z"
        },
        "trusted": true,
        "id": "J4BDiK858yxU"
      },
      "execution_count": null,
      "outputs": []
    },
    {
      "cell_type": "markdown",
      "source": [
        "Analysis that will be made:\n",
        "\n",
        "- Violin and boxplot to analyze if the features have different distributions according to the target\n",
        "- Scatter plots to analyze correlations"
      ],
      "metadata": {
        "id": "xRaX0l7u8yxU"
      }
    },
    {
      "cell_type": "code",
      "source": [
        "data1 = df[list(df.columns[8:20].values) + [\"target\"]]\n",
        "data2 = df[df.columns[20:]]"
      ],
      "metadata": {
        "execution": {
          "iopub.status.busy": "2024-06-14T18:09:16.844793Z",
          "iopub.status.idle": "2024-06-14T18:09:16.845772Z",
          "shell.execute_reply.started": "2024-06-14T18:09:16.845478Z",
          "shell.execute_reply": "2024-06-14T18:09:16.845506Z"
        },
        "trusted": true,
        "id": "dyG4wH1O8yxU"
      },
      "execution_count": null,
      "outputs": []
    },
    {
      "cell_type": "code",
      "source": [
        "scaled = (data1[:-1] - data1[:-1].mean()) / data1[:-1].std()\n",
        "scaled[\"target\"] = data1[\"target\"]\n",
        "violin1 = pd.melt(scaled,id_vars=\"target\", var_name=\"features\", value_name=\"value\")\n",
        "\n",
        "scaled = (data2[:-1] - data2[:-1].mean()) / data2[:-1].std()\n",
        "scaled[\"target\"] = data2[\"target\"]\n",
        "violin2 = pd.melt(scaled,id_vars=\"target\", var_name=\"features\", value_name=\"value\")"
      ],
      "metadata": {
        "execution": {
          "iopub.status.busy": "2024-06-14T18:09:16.847009Z",
          "iopub.status.idle": "2024-06-14T18:09:16.847425Z",
          "shell.execute_reply.started": "2024-06-14T18:09:16.847228Z",
          "shell.execute_reply": "2024-06-14T18:09:16.847248Z"
        },
        "trusted": true,
        "id": "gpbKvKYU8yxU"
      },
      "execution_count": null,
      "outputs": []
    },
    {
      "cell_type": "code",
      "source": [
        "plt.figure(figsize=(15,10))\n",
        "sns.violinplot(x=\"features\", y=\"value\", hue=\"target\", data=violin1,split=True, inner=\"quart\")\n",
        "plt.xticks(rotation=90)\n",
        "plt.show()"
      ],
      "metadata": {
        "execution": {
          "iopub.status.busy": "2024-06-14T18:09:16.849547Z",
          "iopub.status.idle": "2024-06-14T18:09:16.849996Z",
          "shell.execute_reply.started": "2024-06-14T18:09:16.849789Z",
          "shell.execute_reply": "2024-06-14T18:09:16.84981Z"
        },
        "trusted": true,
        "id": "CLtIGRYj8yxV"
      },
      "execution_count": null,
      "outputs": []
    },
    {
      "cell_type": "code",
      "source": [
        "plt.figure(figsize=(15,10))\n",
        "sns.violinplot(x=\"features\", y=\"value\", hue=\"target\", data=violin2,split=True, inner=\"quart\")\n",
        "plt.xticks(rotation=90)\n",
        "plt.show()"
      ],
      "metadata": {
        "execution": {
          "iopub.status.busy": "2024-06-14T18:09:16.851212Z",
          "iopub.status.idle": "2024-06-14T18:09:16.851618Z",
          "shell.execute_reply.started": "2024-06-14T18:09:16.851406Z",
          "shell.execute_reply": "2024-06-14T18:09:16.851424Z"
        },
        "trusted": true,
        "id": "V_ZcNrWo8yxV"
      },
      "execution_count": null,
      "outputs": []
    },
    {
      "cell_type": "markdown",
      "source": [
        "With the plots, we find that rank difference is the only good separator of the data. But, we can create features that get the differences between home and away team and analyze if they are good separating the data."
      ],
      "metadata": {
        "id": "kBThbs2k8yxV"
      }
    },
    {
      "cell_type": "code",
      "source": [
        "dif = df.copy()\n",
        "dif.loc[:, \"goals_dif\"] = dif[\"home_goals_mean\"] - dif[\"away_goals_mean\"]\n",
        "dif.loc[:, \"goals_dif_l5\"] = dif[\"home_goals_mean_l5\"] - dif[\"away_goals_mean_l5\"]\n",
        "dif.loc[:, \"goals_suf_dif\"] = dif[\"home_goals_suf_mean\"] - dif[\"away_goals_suf_mean\"]\n",
        "dif.loc[:, \"goals_suf_dif_l5\"] = dif[\"home_goals_suf_mean_l5\"] - dif[\"away_goals_suf_mean_l5\"]\n",
        "dif.loc[:, \"goals_made_suf_dif\"] = dif[\"home_goals_mean\"] - dif[\"away_goals_suf_mean\"]\n",
        "dif.loc[:, \"goals_made_suf_dif_l5\"] = dif[\"home_goals_mean_l5\"] - dif[\"away_goals_suf_mean_l5\"]\n",
        "dif.loc[:, \"goals_suf_made_dif\"] = dif[\"home_goals_suf_mean\"] - dif[\"away_goals_mean\"]\n",
        "dif.loc[:, \"goals_suf_made_dif_l5\"] = dif[\"home_goals_suf_mean_l5\"] - dif[\"away_goals_mean_l5\"]"
      ],
      "metadata": {
        "execution": {
          "iopub.status.busy": "2024-06-14T18:09:16.853213Z",
          "iopub.status.idle": "2024-06-14T18:09:16.853618Z",
          "shell.execute_reply.started": "2024-06-14T18:09:16.853403Z",
          "shell.execute_reply": "2024-06-14T18:09:16.853422Z"
        },
        "trusted": true,
        "id": "M4wGTdtC8yxW"
      },
      "execution_count": null,
      "outputs": []
    },
    {
      "cell_type": "code",
      "source": [
        "data_difs = dif.iloc[:, -8:]\n",
        "scaled = (data_difs - data_difs.mean()) / data_difs.std()\n",
        "scaled[\"target\"] = data2[\"target\"]\n",
        "violin = pd.melt(scaled,id_vars=\"target\", var_name=\"features\", value_name=\"value\")\n",
        "\n",
        "plt.figure(figsize=(10,10))\n",
        "sns.violinplot(x=\"features\", y=\"value\", hue=\"target\", data=violin,split=True, inner=\"quart\")\n",
        "plt.xticks(rotation=90)\n",
        "plt.show()"
      ],
      "metadata": {
        "execution": {
          "iopub.status.busy": "2024-06-14T18:09:16.854841Z",
          "iopub.status.idle": "2024-06-14T18:09:16.855231Z",
          "shell.execute_reply.started": "2024-06-14T18:09:16.855043Z",
          "shell.execute_reply": "2024-06-14T18:09:16.855063Z"
        },
        "trusted": true,
        "id": "7_A-5Hmb8yxW"
      },
      "execution_count": null,
      "outputs": []
    },
    {
      "cell_type": "markdown",
      "source": [
        "With that plot, we see that goal differences are good separator, and goals suffered difference too. Differences between goals made and goals suffered of the teams are not very good separators.\n",
        "\n",
        "Now, we have 5 features:\n",
        "\n",
        "- rank_dif\n",
        "- goals_dif\n",
        "- goals_dif_l5\n",
        "- goals_suf_dif\n",
        "- goals_suf_dif_l5\n",
        "\n",
        "We can create other features, like differences of points made, differences of points made by rank faced and differences of rank faced."
      ],
      "metadata": {
        "id": "1ApPpP0J8yxW"
      }
    },
    {
      "cell_type": "code",
      "source": [
        "dif.loc[:, \"dif_points\"] = dif[\"home_game_points_mean\"] - dif[\"away_game_points_mean\"]\n",
        "dif.loc[:, \"dif_points_l5\"] = dif[\"home_game_points_mean_l5\"] - dif[\"away_game_points_mean_l5\"]\n",
        "dif.loc[:, \"dif_points_rank\"] = dif[\"home_game_points_rank_mean\"] - dif[\"away_game_points_rank_mean\"]\n",
        "dif.loc[:, \"dif_points_rank_l5\"] = dif[\"home_game_points_rank_mean_l5\"] - dif[\"away_game_points_rank_mean_l5\"]"
      ],
      "metadata": {
        "execution": {
          "iopub.status.busy": "2024-06-14T18:09:16.856654Z",
          "iopub.status.idle": "2024-06-14T18:09:16.857048Z",
          "shell.execute_reply.started": "2024-06-14T18:09:16.856853Z",
          "shell.execute_reply": "2024-06-14T18:09:16.856871Z"
        },
        "trusted": true,
        "id": "9-lq1smm8yxX"
      },
      "execution_count": null,
      "outputs": []
    },
    {
      "cell_type": "code",
      "source": [
        "dif.loc[:, \"dif_rank_agst\"] = dif[\"home_rank_mean\"] - dif[\"away_rank_mean\"]\n",
        "dif.loc[:, \"dif_rank_agst_l5\"] = dif[\"home_rank_mean_l5\"] - dif[\"away_rank_mean_l5\"]"
      ],
      "metadata": {
        "execution": {
          "iopub.status.busy": "2024-06-14T18:09:16.858283Z",
          "iopub.status.idle": "2024-06-14T18:09:16.858722Z",
          "shell.execute_reply.started": "2024-06-14T18:09:16.858487Z",
          "shell.execute_reply": "2024-06-14T18:09:16.858507Z"
        },
        "trusted": true,
        "id": "Mt8wEhV38yxX"
      },
      "execution_count": null,
      "outputs": []
    },
    {
      "cell_type": "markdown",
      "source": [
        "Also, we can calculate goals made and suffered by rank, and check this difference."
      ],
      "metadata": {
        "id": "70oAD5mO8yxX"
      }
    },
    {
      "cell_type": "code",
      "source": [
        "dif.loc[:, \"goals_per_ranking_dif\"] = (dif[\"home_goals_mean\"] / dif[\"home_rank_mean\"]) - (dif[\"away_goals_mean\"] / dif[\"away_rank_mean\"])\n",
        "dif.loc[:, \"goals_per_ranking_suf_dif\"] = (dif[\"home_goals_suf_mean\"] / dif[\"home_rank_mean\"]) - (dif[\"away_goals_suf_mean\"] / dif[\"away_rank_mean\"])\n",
        "dif.loc[:, \"goals_per_ranking_dif_l5\"] = (dif[\"home_goals_mean_l5\"] / dif[\"home_rank_mean\"]) - (dif[\"away_goals_mean_l5\"] / dif[\"away_rank_mean\"])\n",
        "dif.loc[:, \"goals_per_ranking_suf_dif_l5\"] = (dif[\"home_goals_suf_mean_l5\"] / dif[\"home_rank_mean\"]) - (dif[\"away_goals_suf_mean_l5\"] / dif[\"away_rank_mean\"])"
      ],
      "metadata": {
        "execution": {
          "iopub.status.busy": "2024-06-14T18:09:16.860303Z",
          "iopub.status.idle": "2024-06-14T18:09:16.860767Z",
          "shell.execute_reply.started": "2024-06-14T18:09:16.860521Z",
          "shell.execute_reply": "2024-06-14T18:09:16.860541Z"
        },
        "trusted": true,
        "id": "0GEZtAIN8yxX"
      },
      "execution_count": null,
      "outputs": []
    },
    {
      "cell_type": "code",
      "source": [
        "data_difs = dif.iloc[:, -10:]\n",
        "scaled = (data_difs - data_difs.mean()) / data_difs.std()\n",
        "scaled[\"target\"] = data2[\"target\"]\n",
        "violin = pd.melt(scaled,id_vars=\"target\", var_name=\"features\", value_name=\"value\")\n",
        "\n",
        "plt.figure(figsize=(15,10))\n",
        "sns.violinplot(x=\"features\", y=\"value\", hue=\"target\", data=violin,split=True, inner=\"quart\")\n",
        "plt.xticks(rotation=90)\n",
        "plt.show()"
      ],
      "metadata": {
        "execution": {
          "iopub.status.busy": "2024-06-14T18:09:16.862576Z",
          "iopub.status.idle": "2024-06-14T18:09:16.863013Z",
          "shell.execute_reply.started": "2024-06-14T18:09:16.862809Z",
          "shell.execute_reply": "2024-06-14T18:09:16.862829Z"
        },
        "trusted": true,
        "id": "bxYIJPNe8yxY"
      },
      "execution_count": null,
      "outputs": []
    },
    {
      "cell_type": "markdown",
      "source": [
        "Due to the low values, the violin plot was not a good choice to analyze if features are really separating the data in this case. We will see then the boxplot:"
      ],
      "metadata": {
        "id": "Vn1siKa58yxY"
      }
    },
    {
      "cell_type": "code",
      "source": [
        "plt.figure(figsize=(15,10))\n",
        "sns.boxplot(x=\"features\", y=\"value\", hue=\"target\", data=violin)\n",
        "plt.xticks(rotation=90)\n",
        "plt.show()"
      ],
      "metadata": {
        "execution": {
          "iopub.status.busy": "2024-06-14T18:09:16.864192Z",
          "iopub.status.idle": "2024-06-14T18:09:16.864626Z",
          "shell.execute_reply.started": "2024-06-14T18:09:16.864399Z",
          "shell.execute_reply": "2024-06-14T18:09:16.864419Z"
        },
        "trusted": true,
        "id": "mgpgOc0w8yxY"
      },
      "execution_count": null,
      "outputs": []
    },
    {
      "cell_type": "markdown",
      "source": [
        "Difference of points (full and last 5 games), difference of points by ranking faced (full and last 5 games) and difference of rank faced (full and last 5 games) are good features. Also, some of the generated features have very similar distributions which will be analyzed using scatterplots."
      ],
      "metadata": {
        "id": "lMrSWQfL8yxa"
      }
    },
    {
      "cell_type": "code",
      "source": [
        "sns.jointplot(data = data_difs, x = 'goals_per_ranking_dif', y = 'goals_per_ranking_dif_l5', kind=\"reg\")\n",
        "plt.show()"
      ],
      "metadata": {
        "execution": {
          "iopub.status.busy": "2024-06-14T18:09:16.866885Z",
          "iopub.status.idle": "2024-06-14T18:09:16.867316Z",
          "shell.execute_reply.started": "2024-06-14T18:09:16.867118Z",
          "shell.execute_reply": "2024-06-14T18:09:16.867137Z"
        },
        "trusted": true,
        "id": "ih6c3NvU8yxa"
      },
      "execution_count": null,
      "outputs": []
    },
    {
      "cell_type": "markdown",
      "source": [
        "Goals difference by ranking faced and its last 5 games version has very similar distributions. So, we will use only the full version (goals_per_ranking_dif)."
      ],
      "metadata": {
        "id": "nRGMeR3M8yxb"
      }
    },
    {
      "cell_type": "code",
      "source": [
        "sns.jointplot(data = data_difs, x = 'dif_rank_agst', y = 'dif_rank_agst_l5', kind=\"reg\")\n",
        "plt.show()"
      ],
      "metadata": {
        "execution": {
          "iopub.status.busy": "2024-06-14T18:09:16.86879Z",
          "iopub.status.idle": "2024-06-14T18:09:16.869234Z",
          "shell.execute_reply.started": "2024-06-14T18:09:16.869028Z",
          "shell.execute_reply": "2024-06-14T18:09:16.869049Z"
        },
        "trusted": true,
        "id": "01OKcnzX8yxb"
      },
      "execution_count": null,
      "outputs": []
    },
    {
      "cell_type": "code",
      "source": [
        "sns.jointplot(data = data_difs, x = 'dif_points', y = 'dif_points_l5', kind=\"reg\")\n",
        "plt.show()"
      ],
      "metadata": {
        "execution": {
          "iopub.status.busy": "2024-06-14T18:09:16.871278Z",
          "iopub.status.idle": "2024-06-14T18:09:16.871739Z",
          "shell.execute_reply.started": "2024-06-14T18:09:16.8715Z",
          "shell.execute_reply": "2024-06-14T18:09:16.871519Z"
        },
        "trusted": true,
        "id": "6gO6bxFc8yxb"
      },
      "execution_count": null,
      "outputs": []
    },
    {
      "cell_type": "code",
      "source": [
        "sns.jointplot(data = data_difs, x = 'dif_points_rank', y = 'dif_points_rank_l5', kind=\"reg\")\n",
        "plt.show()"
      ],
      "metadata": {
        "execution": {
          "iopub.status.busy": "2024-06-14T18:09:16.87361Z",
          "iopub.status.idle": "2024-06-14T18:09:16.874092Z",
          "shell.execute_reply.started": "2024-06-14T18:09:16.873879Z",
          "shell.execute_reply": "2024-06-14T18:09:16.8739Z"
        },
        "trusted": true,
        "id": "a8B6YFGN8yxb"
      },
      "execution_count": null,
      "outputs": []
    },
    {
      "cell_type": "markdown",
      "source": [
        "For the differences of rank faced, game points by rank faced and mean game points by rank faced, the two versions (full and 5 games) are not so similar. So, we will use both.\n",
        "\n",
        "Based on that, final features are:\n",
        "\n",
        "\n",
        "- rank_dif\n",
        "- goals_dif\n",
        "- goals_dif_l5\n",
        "- goals_suf_dif\n",
        "- goals_suf_dif_l5\n",
        "- dif_rank_agst\n",
        "- dif_rank_agst_l5\n",
        "- goals_per_ranking_dif\n",
        "- dif_points_rank\n",
        "- dif_points_rank_l5\n",
        "- is_friendly"
      ],
      "metadata": {
        "id": "L3dF8aGz8yxc"
      }
    },
    {
      "cell_type": "code",
      "source": [
        "def create_db(df):\n",
        "    columns = [\"home_team\", \"away_team\", \"target\", \"rank_dif\", \"home_goals_mean\", \"home_rank_mean\", \"away_goals_mean\", \"away_rank_mean\", \"home_rank_mean_l5\", \"away_rank_mean_l5\", \"home_goals_suf_mean\", \"away_goals_suf_mean\", \"home_goals_mean_l5\", \"away_goals_mean_l5\", \"home_goals_suf_mean_l5\", \"away_goals_suf_mean_l5\", \"home_game_points_rank_mean\", \"home_game_points_rank_mean_l5\", \"away_game_points_rank_mean\", \"away_game_points_rank_mean_l5\",\"is_friendly_0\", \"is_friendly_1\"]\n",
        "\n",
        "    base = df.loc[:, columns]\n",
        "    base.loc[:, \"goals_dif\"] = base[\"home_goals_mean\"] - base[\"away_goals_mean\"]\n",
        "    base.loc[:, \"goals_dif_l5\"] = base[\"home_goals_mean_l5\"] - base[\"away_goals_mean_l5\"]\n",
        "    base.loc[:, \"goals_suf_dif\"] = base[\"home_goals_suf_mean\"] - base[\"away_goals_suf_mean\"]\n",
        "    base.loc[:, \"goals_suf_dif_l5\"] = base[\"home_goals_suf_mean_l5\"] - base[\"away_goals_suf_mean_l5\"]\n",
        "    base.loc[:, \"goals_per_ranking_dif\"] = (base[\"home_goals_mean\"] / base[\"home_rank_mean\"]) - (base[\"away_goals_mean\"] / base[\"away_rank_mean\"])\n",
        "    base.loc[:, \"dif_rank_agst\"] = base[\"home_rank_mean\"] - base[\"away_rank_mean\"]\n",
        "    base.loc[:, \"dif_rank_agst_l5\"] = base[\"home_rank_mean_l5\"] - base[\"away_rank_mean_l5\"]\n",
        "    base.loc[:, \"dif_points_rank\"] = base[\"home_game_points_rank_mean\"] - base[\"away_game_points_rank_mean\"]\n",
        "    base.loc[:, \"dif_points_rank_l5\"] = base[\"home_game_points_rank_mean_l5\"] - base[\"away_game_points_rank_mean_l5\"]\n",
        "\n",
        "    model_df = base[[\"home_team\", \"away_team\", \"target\", \"rank_dif\", \"goals_dif\", \"goals_dif_l5\", \"goals_suf_dif\", \"goals_suf_dif_l5\", \"goals_per_ranking_dif\", \"dif_rank_agst\", \"dif_rank_agst_l5\", \"dif_points_rank\", \"dif_points_rank_l5\", \"is_friendly_0\", \"is_friendly_1\"]]\n",
        "    return model_df"
      ],
      "metadata": {
        "execution": {
          "iopub.status.busy": "2024-06-14T18:09:16.875583Z",
          "iopub.status.idle": "2024-06-14T18:09:16.876495Z",
          "shell.execute_reply.started": "2024-06-14T18:09:16.876246Z",
          "shell.execute_reply": "2024-06-14T18:09:16.876273Z"
        },
        "trusted": true,
        "id": "RcT0Y_T-8yxc"
      },
      "execution_count": null,
      "outputs": []
    },
    {
      "cell_type": "code",
      "source": [
        "model_db = create_db(df)"
      ],
      "metadata": {
        "execution": {
          "iopub.status.busy": "2024-06-14T18:09:16.878406Z",
          "iopub.status.idle": "2024-06-14T18:09:16.878854Z",
          "shell.execute_reply.started": "2024-06-14T18:09:16.878646Z",
          "shell.execute_reply": "2024-06-14T18:09:16.878668Z"
        },
        "trusted": true,
        "id": "T1sZSklm8yxc"
      },
      "execution_count": null,
      "outputs": []
    },
    {
      "cell_type": "code",
      "source": [
        "model_db"
      ],
      "metadata": {
        "execution": {
          "iopub.status.busy": "2024-06-14T18:09:16.880433Z",
          "iopub.status.idle": "2024-06-14T18:09:16.880871Z",
          "shell.execute_reply.started": "2024-06-14T18:09:16.880665Z",
          "shell.execute_reply": "2024-06-14T18:09:16.880685Z"
        },
        "trusted": true,
        "id": "aJHVLBE-8yxd"
      },
      "execution_count": null,
      "outputs": []
    },
    {
      "cell_type": "markdown",
      "source": [
        "# The model\n",
        "\n",
        "Now that we have a database ready and with columns with predictive power, we can start our modelling.\n",
        "\n",
        "Two models will be tested: Random Forest and Gradient Boosting. The selected will be the one with best recall."
      ],
      "metadata": {
        "id": "BfkMzAnG8yxd"
      }
    },
    {
      "cell_type": "code",
      "source": [
        "X = model_db.iloc[:, 3:]\n",
        "y = model_db[[\"target\"]]"
      ],
      "metadata": {
        "execution": {
          "iopub.status.busy": "2024-06-14T18:09:16.882513Z",
          "iopub.status.idle": "2024-06-14T18:09:16.882998Z",
          "shell.execute_reply.started": "2024-06-14T18:09:16.882795Z",
          "shell.execute_reply": "2024-06-14T18:09:16.882817Z"
        },
        "trusted": true,
        "id": "QnBH4ebA8yxd"
      },
      "execution_count": null,
      "outputs": []
    },
    {
      "cell_type": "code",
      "source": [
        "from sklearn.ensemble import RandomForestClassifier, GradientBoostingClassifier\n",
        "from sklearn.model_selection import train_test_split, GridSearchCV"
      ],
      "metadata": {
        "execution": {
          "iopub.status.busy": "2024-06-14T18:09:16.884515Z",
          "iopub.status.idle": "2024-06-14T18:09:16.884952Z",
          "shell.execute_reply.started": "2024-06-14T18:09:16.884755Z",
          "shell.execute_reply": "2024-06-14T18:09:16.884776Z"
        },
        "trusted": true,
        "id": "1GSSQ86a8yxd"
      },
      "execution_count": null,
      "outputs": []
    },
    {
      "cell_type": "code",
      "source": [
        "X_train, X_test, y_train, y_test = train_test_split(X, y, test_size= 0.2, random_state=1)"
      ],
      "metadata": {
        "execution": {
          "iopub.status.busy": "2024-06-14T18:09:16.886732Z",
          "iopub.status.idle": "2024-06-14T18:09:16.88717Z",
          "shell.execute_reply.started": "2024-06-14T18:09:16.88696Z",
          "shell.execute_reply": "2024-06-14T18:09:16.886981Z"
        },
        "trusted": true,
        "id": "jPbZHH9V8yxe"
      },
      "execution_count": null,
      "outputs": []
    },
    {
      "cell_type": "code",
      "source": [
        "gb = GradientBoostingClassifier(random_state=5)\n",
        "\n",
        "params = {\"learning_rate\": [0.01, 0.1, 0.5],\n",
        "            \"min_samples_split\": [5, 10],\n",
        "            \"min_samples_leaf\": [3, 5],\n",
        "            \"max_depth\":[3,5,10],\n",
        "            \"max_features\":[\"sqrt\"],\n",
        "            \"n_estimators\":[100, 200]\n",
        "         }\n",
        "\n",
        "gb_cv = GridSearchCV(gb, params, cv = 3, n_jobs = -1, verbose = False)\n",
        "\n",
        "gb_cv.fit(X_train.values, np.ravel(y_train))"
      ],
      "metadata": {
        "execution": {
          "iopub.status.busy": "2024-06-14T18:09:16.888541Z",
          "iopub.status.idle": "2024-06-14T18:09:16.888975Z",
          "shell.execute_reply.started": "2024-06-14T18:09:16.888782Z",
          "shell.execute_reply": "2024-06-14T18:09:16.888802Z"
        },
        "trusted": true,
        "id": "dEpmDNeP8yxe"
      },
      "execution_count": null,
      "outputs": []
    },
    {
      "cell_type": "code",
      "source": [
        "gb = gb_cv.best_estimator_"
      ],
      "metadata": {
        "execution": {
          "iopub.status.busy": "2024-06-14T18:09:16.89032Z",
          "iopub.status.idle": "2024-06-14T18:09:16.890753Z",
          "shell.execute_reply.started": "2024-06-14T18:09:16.890522Z",
          "shell.execute_reply": "2024-06-14T18:09:16.890541Z"
        },
        "trusted": true,
        "id": "otQnXtkT8yxf"
      },
      "execution_count": null,
      "outputs": []
    },
    {
      "cell_type": "code",
      "source": [
        "gb"
      ],
      "metadata": {
        "execution": {
          "iopub.status.busy": "2024-06-14T18:09:16.89198Z",
          "iopub.status.idle": "2024-06-14T18:09:16.892399Z",
          "shell.execute_reply.started": "2024-06-14T18:09:16.892199Z",
          "shell.execute_reply": "2024-06-14T18:09:16.892219Z"
        },
        "trusted": true,
        "id": "Dg7DYZwB8yxf"
      },
      "execution_count": null,
      "outputs": []
    },
    {
      "cell_type": "code",
      "source": [
        "params_rf = {\"max_depth\": [20],\n",
        "                \"min_samples_split\": [10],\n",
        "                \"max_leaf_nodes\": [175],\n",
        "                \"min_samples_leaf\": [5],\n",
        "                \"n_estimators\": [250],\n",
        "                 \"max_features\": [\"sqrt\"],\n",
        "                }\n",
        "\n",
        "rf = RandomForestClassifier(random_state=1)\n",
        "\n",
        "rf_cv = GridSearchCV(rf, params_rf, cv = 3, n_jobs = -1, verbose = False)\n",
        "\n",
        "rf_cv.fit(X_train.values, np.ravel(y_train))"
      ],
      "metadata": {
        "execution": {
          "iopub.status.busy": "2024-06-14T18:09:16.893713Z",
          "iopub.status.idle": "2024-06-14T18:09:16.894106Z",
          "shell.execute_reply.started": "2024-06-14T18:09:16.893908Z",
          "shell.execute_reply": "2024-06-14T18:09:16.893927Z"
        },
        "trusted": true,
        "id": "xH851Ww68yxf"
      },
      "execution_count": null,
      "outputs": []
    },
    {
      "cell_type": "code",
      "source": [
        "rf = rf_cv.best_estimator_"
      ],
      "metadata": {
        "execution": {
          "iopub.status.busy": "2024-06-14T18:09:16.895221Z",
          "iopub.status.idle": "2024-06-14T18:09:16.895662Z",
          "shell.execute_reply.started": "2024-06-14T18:09:16.89543Z",
          "shell.execute_reply": "2024-06-14T18:09:16.895451Z"
        },
        "trusted": true,
        "id": "7Jgy8ssP8yxg"
      },
      "execution_count": null,
      "outputs": []
    },
    {
      "cell_type": "code",
      "source": [
        "from sklearn.metrics import confusion_matrix, roc_curve, roc_auc_score"
      ],
      "metadata": {
        "execution": {
          "iopub.status.busy": "2024-06-14T18:09:16.897213Z",
          "iopub.status.idle": "2024-06-14T18:09:16.897633Z",
          "shell.execute_reply.started": "2024-06-14T18:09:16.897414Z",
          "shell.execute_reply": "2024-06-14T18:09:16.897433Z"
        },
        "trusted": true,
        "id": "Tdn-Irck8yxg"
      },
      "execution_count": null,
      "outputs": []
    },
    {
      "cell_type": "code",
      "source": [
        "def analyze(model):\n",
        "    fpr, tpr, _ = roc_curve(y_test, model.predict_proba(X_test.values)[:,1]) #test AUC\n",
        "    plt.figure(figsize=(15,10))\n",
        "    plt.plot([0, 1], [0, 1], 'k--')\n",
        "    plt.plot(fpr, tpr, label=\"test\")\n",
        "\n",
        "    fpr_train, tpr_train, _ = roc_curve(y_train, model.predict_proba(X_train.values)[:,1]) #train AUC\n",
        "    plt.plot(fpr_train, tpr_train, label=\"train\")\n",
        "    auc_test = roc_auc_score(y_test, model.predict_proba(X_test.values)[:,1])\n",
        "    auc_train = roc_auc_score(y_train, model.predict_proba(X_train.values)[:,1])\n",
        "    plt.legend()\n",
        "    plt.title('AUC score is %.2f on test and %.2f on training'%(auc_test, auc_train))\n",
        "    plt.show()\n",
        "\n",
        "    plt.figure(figsize=(15, 10))\n",
        "    cm = confusion_matrix(y_test, model.predict(X_test.values))\n",
        "    sns.heatmap(cm, annot=True, fmt=\"d\")"
      ],
      "metadata": {
        "execution": {
          "iopub.status.busy": "2024-06-14T18:09:16.89865Z",
          "iopub.status.idle": "2024-06-14T18:09:16.899073Z",
          "shell.execute_reply.started": "2024-06-14T18:09:16.898868Z",
          "shell.execute_reply": "2024-06-14T18:09:16.898889Z"
        },
        "trusted": true,
        "id": "kVyq4_nu8yxg"
      },
      "execution_count": null,
      "outputs": []
    },
    {
      "cell_type": "code",
      "source": [
        "analyze(gb)"
      ],
      "metadata": {
        "execution": {
          "iopub.status.busy": "2024-06-14T18:09:16.90025Z",
          "iopub.status.idle": "2024-06-14T18:09:16.900667Z",
          "shell.execute_reply.started": "2024-06-14T18:09:16.900445Z",
          "shell.execute_reply": "2024-06-14T18:09:16.900464Z"
        },
        "trusted": true,
        "id": "esY7Qu2b8yxh"
      },
      "execution_count": null,
      "outputs": []
    },
    {
      "cell_type": "code",
      "source": [
        "analyze(rf)"
      ],
      "metadata": {
        "execution": {
          "iopub.status.busy": "2024-06-14T18:09:16.903208Z",
          "iopub.status.idle": "2024-06-14T18:09:16.903668Z",
          "shell.execute_reply.started": "2024-06-14T18:09:16.903435Z",
          "shell.execute_reply": "2024-06-14T18:09:16.903457Z"
        },
        "trusted": true,
        "id": "Z68ThVuM8yxh"
      },
      "execution_count": null,
      "outputs": []
    },
    {
      "cell_type": "markdown",
      "source": [
        "The Random Forest model is a little bit better but seems to underfit. So, we will use the Gradient Boosting Model."
      ],
      "metadata": {
        "id": "reO41v2s8yxh"
      }
    },
    {
      "cell_type": "code",
      "source": [
        "from operator import itemgetter"
      ],
      "metadata": {
        "execution": {
          "iopub.status.busy": "2024-06-14T18:09:16.905338Z",
          "iopub.status.idle": "2024-06-14T18:09:16.905777Z",
          "shell.execute_reply.started": "2024-06-14T18:09:16.905539Z",
          "shell.execute_reply": "2024-06-14T18:09:16.90558Z"
        },
        "trusted": true,
        "id": "fQbKSQzs8yxi"
      },
      "execution_count": null,
      "outputs": []
    },
    {
      "cell_type": "markdown",
      "source": [
        "# WC Simulation\n",
        "\n",
        "The first thing is to create FIFA World Cup games. To do this, I'll get in the wikipedia the teams and group phase matches."
      ],
      "metadata": {
        "id": "QsbTMTCt8yxi"
      }
    },
    {
      "cell_type": "code",
      "source": [
        "dfs = pd.read_html(r\"https://en.wikipedia.org/wiki/2022_FIFA_World_Cup#Teams\")"
      ],
      "metadata": {
        "execution": {
          "iopub.status.busy": "2024-06-14T18:09:16.907437Z",
          "iopub.status.idle": "2024-06-14T18:09:16.908058Z",
          "shell.execute_reply.started": "2024-06-14T18:09:16.907759Z",
          "shell.execute_reply": "2024-06-14T18:09:16.907787Z"
        },
        "trusted": true,
        "id": "C5Q4BF358yxi"
      },
      "execution_count": null,
      "outputs": []
    },
    {
      "cell_type": "code",
      "source": [
        "from collections.abc import Iterable\n",
        "\n",
        "for i in range(len(dfs)):\n",
        "    df = dfs[i]\n",
        "    cols = list(df.columns.values)\n",
        "\n",
        "    if isinstance(cols[0], Iterable):\n",
        "        if any(\"Tie-breaking criteria\" in c for c in cols):\n",
        "            start_pos = i+1\n",
        "\n",
        "        if any(\"Match 46\" in c for c in cols):\n",
        "            end_pos = i+1"
      ],
      "metadata": {
        "execution": {
          "iopub.status.busy": "2024-06-14T18:09:16.90983Z",
          "iopub.status.idle": "2024-06-14T18:09:16.910399Z",
          "shell.execute_reply.started": "2024-06-14T18:09:16.910113Z",
          "shell.execute_reply": "2024-06-14T18:09:16.910141Z"
        },
        "trusted": true,
        "id": "dSQkrrNm8yxi"
      },
      "execution_count": null,
      "outputs": []
    },
    {
      "cell_type": "code",
      "source": [
        "matches = []\n",
        "groups = [\"A\", \"B\", \"C\", \"D\", \"E\", \"F\", \"G\", \"H\"]\n",
        "group_count = 0\n",
        "\n",
        "table = {}\n",
        "#TABLE -> TEAM, POINTS, WIN PROBS (CRITERIO DE DESEMPATE)\n",
        "table[groups[group_count]] = [[a.split(\" \")[0], 0, []] for a in list(dfs[start_pos].iloc[:, 1].values)]\n",
        "\n",
        "for i in range(start_pos+1, end_pos, 1):\n",
        "    if len(dfs[i].columns) == 3:\n",
        "        team_1 = dfs[i].columns.values[0]\n",
        "        team_2 = dfs[i].columns.values[-1]\n",
        "\n",
        "        matches.append((groups[group_count], team_1, team_2))\n",
        "    else:\n",
        "        group_count+=1\n",
        "        table[groups[group_count]] = [[a, 0, []] for a in list(dfs[i].iloc[:, 1].values)]"
      ],
      "metadata": {
        "execution": {
          "iopub.status.busy": "2024-06-14T18:09:16.912431Z",
          "iopub.status.idle": "2024-06-14T18:09:16.913154Z",
          "shell.execute_reply.started": "2024-06-14T18:09:16.912744Z",
          "shell.execute_reply": "2024-06-14T18:09:16.912774Z"
        },
        "trusted": true,
        "id": "TBsITMlf8yxi"
      },
      "execution_count": null,
      "outputs": []
    },
    {
      "cell_type": "code",
      "source": [
        "table"
      ],
      "metadata": {
        "execution": {
          "iopub.status.busy": "2024-06-14T18:09:16.915017Z",
          "iopub.status.idle": "2024-06-14T18:09:16.915604Z",
          "shell.execute_reply.started": "2024-06-14T18:09:16.915291Z",
          "shell.execute_reply": "2024-06-14T18:09:16.915319Z"
        },
        "trusted": true,
        "id": "lo7VTgxm8yxj"
      },
      "execution_count": null,
      "outputs": []
    },
    {
      "cell_type": "markdown",
      "source": [
        "Above, we also store the team's points at the group and its probabilities of win in each game. The mean of team's wins probabilities will be used as tiebreaker when two teams have the same number of points."
      ],
      "metadata": {
        "id": "adBJcXBr8yxj"
      }
    },
    {
      "cell_type": "code",
      "source": [
        "matches[:10]"
      ],
      "metadata": {
        "execution": {
          "iopub.status.busy": "2024-06-14T18:09:16.917526Z",
          "iopub.status.idle": "2024-06-14T18:09:16.918142Z",
          "shell.execute_reply.started": "2024-06-14T18:09:16.917829Z",
          "shell.execute_reply": "2024-06-14T18:09:16.91786Z"
        },
        "trusted": true,
        "id": "zSpFOfU28yxj"
      },
      "execution_count": null,
      "outputs": []
    },
    {
      "cell_type": "markdown",
      "source": [
        "I will use last game stats as the stats for each team involved in the game. Like, for Brazil vs Serbia, the stats of Brazil is the ones they had in the last game and for Serbia too."
      ],
      "metadata": {
        "id": "gvguUXle8yxj"
      }
    },
    {
      "cell_type": "code",
      "source": [
        "def find_stats(team_1):\n",
        "#team_1 = \"Qatar\"\n",
        "    past_games = team_stats_raw[(team_stats_raw[\"team\"] == team_1)].sort_values(\"date\")\n",
        "    last5 = team_stats_raw[(team_stats_raw[\"team\"] == team_1)].sort_values(\"date\").tail(5)\n",
        "\n",
        "    team_1_rank = past_games[\"rank\"].values[-1]\n",
        "    team_1_goals = past_games.score.mean()\n",
        "    team_1_goals_l5 = last5.score.mean()\n",
        "    team_1_goals_suf = past_games.suf_score.mean()\n",
        "    team_1_goals_suf_l5 = last5.suf_score.mean()\n",
        "    team_1_rank_suf = past_games.rank_suf.mean()\n",
        "    team_1_rank_suf_l5 = last5.rank_suf.mean()\n",
        "    team_1_gp_rank = past_games.points_by_rank.mean()\n",
        "    team_1_gp_rank_l5 = last5.points_by_rank.mean()\n",
        "\n",
        "    return [team_1_rank, team_1_goals, team_1_goals_l5, team_1_goals_suf, team_1_goals_suf_l5, team_1_rank_suf, team_1_rank_suf_l5, team_1_gp_rank, team_1_gp_rank_l5]"
      ],
      "metadata": {
        "execution": {
          "iopub.status.busy": "2024-06-14T18:09:16.919944Z",
          "iopub.status.idle": "2024-06-14T18:09:16.920523Z",
          "shell.execute_reply.started": "2024-06-14T18:09:16.920233Z",
          "shell.execute_reply": "2024-06-14T18:09:16.920262Z"
        },
        "trusted": true,
        "id": "8rvnVB3d8yxj"
      },
      "execution_count": null,
      "outputs": []
    },
    {
      "cell_type": "code",
      "source": [
        "def find_features(team_1, team_2):\n",
        "    rank_dif = team_1[0] - team_2[0]\n",
        "    goals_dif = team_1[1] - team_2[1]\n",
        "    goals_dif_l5 = team_1[2] - team_2[2]\n",
        "    goals_suf_dif = team_1[3] - team_2[3]\n",
        "    goals_suf_dif_l5 = team_1[4] - team_2[4]\n",
        "    goals_per_ranking_dif = (team_1[1]/team_1[5]) - (team_2[1]/team_2[5])\n",
        "    dif_rank_agst = team_1[5] - team_2[5]\n",
        "    dif_rank_agst_l5 = team_1[6] - team_2[6]\n",
        "    dif_gp_rank = team_1[7] - team_2[7]\n",
        "    dif_gp_rank_l5 = team_1[8] - team_2[8]\n",
        "\n",
        "    return [rank_dif, goals_dif, goals_dif_l5, goals_suf_dif, goals_suf_dif_l5, goals_per_ranking_dif, dif_rank_agst, dif_rank_agst_l5, dif_gp_rank, dif_gp_rank_l5, 1, 0]"
      ],
      "metadata": {
        "execution": {
          "iopub.status.busy": "2024-06-14T18:09:16.922073Z",
          "iopub.status.idle": "2024-06-14T18:09:16.922651Z",
          "shell.execute_reply.started": "2024-06-14T18:09:16.922349Z",
          "shell.execute_reply": "2024-06-14T18:09:16.922377Z"
        },
        "trusted": true,
        "id": "D7jq0ydi8yxk"
      },
      "execution_count": null,
      "outputs": []
    },
    {
      "cell_type": "markdown",
      "source": [
        "Now, we are able to simulate.\n",
        "\n",
        "Since the model simulates if team 1 will win or not win, it's needed to create some criteria to define a draw. Also, since we have not home advantage at World Cup, the idea is to predict game two times, changing team 1 and team 2. The team with the highest mean of probabilities will be assigned as winner. At the group phase, if \"home team\" win as team 1 and loses as team 2, or if \"home team\" win as team 2 and loses at team 1, there will be assigned a draw in that match."
      ],
      "metadata": {
        "id": "5lcF1g2d8yxk"
      }
    },
    {
      "cell_type": "code",
      "source": [
        "advanced_group = []\n",
        "last_group = \"\"\n",
        "\n",
        "for k in table.keys():\n",
        "    for t in table[k]:\n",
        "        t[1] = 0\n",
        "        t[2] = []\n",
        "\n",
        "for teams in matches:\n",
        "    draw = False\n",
        "    team_1 = find_stats(teams[1])\n",
        "    team_2 = find_stats(teams[2])\n",
        "\n",
        "\n",
        "\n",
        "    features_g1 = find_features(team_1, team_2)\n",
        "    features_g2 = find_features(team_2, team_1)\n",
        "\n",
        "    probs_g1 = gb.predict_proba([features_g1])\n",
        "    probs_g2 = gb.predict_proba([features_g2])\n",
        "\n",
        "    team_1_prob_g1 = probs_g1[0][0]\n",
        "    team_1_prob_g2 = probs_g2[0][1]\n",
        "    team_2_prob_g1 = probs_g1[0][1]\n",
        "    team_2_prob_g2 = probs_g2[0][0]\n",
        "\n",
        "    team_1_prob = (probs_g1[0][0] + probs_g2[0][1])/2\n",
        "    team_2_prob = (probs_g2[0][0] + probs_g1[0][1])/2\n",
        "\n",
        "    if ((team_1_prob_g1 > team_2_prob_g1) & (team_2_prob_g2 > team_1_prob_g2)) | ((team_1_prob_g1 < team_2_prob_g1) & (team_2_prob_g2 < team_1_prob_g2)):\n",
        "        draw=True\n",
        "        for i in table[teams[0]]:\n",
        "            if i[0] == teams[1] or i[0] == teams[2]:\n",
        "                i[1] += 1\n",
        "\n",
        "    elif team_1_prob > team_2_prob:\n",
        "        winner = teams[1]\n",
        "        winner_proba = team_1_prob\n",
        "        for i in table[teams[0]]:\n",
        "            if i[0] == teams[1]:\n",
        "                i[1] += 3\n",
        "\n",
        "    elif team_2_prob > team_1_prob:\n",
        "        winner = teams[2]\n",
        "        winner_proba = team_2_prob\n",
        "        for i in table[teams[0]]:\n",
        "            if i[0] == teams[2]:\n",
        "                i[1] += 3\n",
        "\n",
        "    for i in table[teams[0]]: #adding criterio de desempate (probs por jogo)\n",
        "            if i[0] == teams[1]:\n",
        "                i[2].append(team_1_prob)\n",
        "            if i[0] == teams[2]:\n",
        "                i[2].append(team_2_prob)\n",
        "\n",
        "    if last_group != teams[0]:\n",
        "        if last_group != \"\":\n",
        "            print(\"\\n\")\n",
        "            print(\"Group %s advanced: \"%(last_group))\n",
        "\n",
        "            for i in table[last_group]: #adding crieterio de desempate\n",
        "                i[2] = np.mean(i[2])\n",
        "\n",
        "            final_points = table[last_group]\n",
        "            final_table = sorted(final_points, key=itemgetter(1, 2), reverse = True)\n",
        "            advanced_group.append([final_table[0][0], final_table[1][0]])\n",
        "            for i in final_table:\n",
        "                print(\"%s -------- %d\"%(i[0], i[1]))\n",
        "        print(\"\\n\")\n",
        "        print(\"-\"*10+\" Starting Analysis for Group %s \"%(teams[0])+\"-\"*10)\n",
        "\n",
        "\n",
        "    if draw == False:\n",
        "        print(\"Group %s - %s vs. %s: Winner %s with %.2f probability\"%(teams[0], teams[1], teams[2], winner, winner_proba))\n",
        "    else:\n",
        "        print(\"Group %s - %s vs. %s: Draw\"%(teams[0], teams[1], teams[2]))\n",
        "    last_group =  teams[0]\n",
        "\n",
        "print(\"\\n\")\n",
        "print(\"Group %s advanced: \"%(last_group))\n",
        "\n",
        "for i in table[last_group]: #adding crieterio de desempate\n",
        "    i[2] = np.mean(i[2])\n",
        "\n",
        "final_points = table[last_group]\n",
        "final_table = sorted(final_points, key=itemgetter(1, 2), reverse = True)\n",
        "advanced_group.append([final_table[0][0], final_table[1][0]])\n",
        "for i in final_table:\n",
        "    print(\"%s -------- %d\"%(i[0], i[1]))"
      ],
      "metadata": {
        "execution": {
          "iopub.status.busy": "2024-06-14T18:09:16.924777Z",
          "iopub.status.idle": "2024-06-14T18:09:16.925186Z",
          "shell.execute_reply.started": "2024-06-14T18:09:16.924994Z",
          "shell.execute_reply": "2024-06-14T18:09:16.925014Z"
        },
        "trusted": true,
        "id": "zyU2Wd9n8yxl"
      },
      "execution_count": null,
      "outputs": []
    },
    {
      "cell_type": "markdown",
      "source": [
        "The group phase predicted no surprises, or maybe the draw between Brazil and Switzerland or France and Denmark. For the playoffs phase, I'll predict and show it graphically as made [here](https://www.kaggle.com/code/agostontorok/soccer-world-cup-2018-winner)."
      ],
      "metadata": {
        "id": "2MfFjYF48yxn"
      }
    },
    {
      "cell_type": "code",
      "source": [
        "advanced = advanced_group"
      ],
      "metadata": {
        "execution": {
          "iopub.status.busy": "2024-06-14T18:09:16.926387Z",
          "iopub.status.idle": "2024-06-14T18:09:16.926818Z",
          "shell.execute_reply.started": "2024-06-14T18:09:16.926615Z",
          "shell.execute_reply": "2024-06-14T18:09:16.926636Z"
        },
        "trusted": true,
        "id": "nZpOXQI48yxn"
      },
      "execution_count": null,
      "outputs": []
    },
    {
      "cell_type": "code",
      "source": [
        "playoffs = {\"Round of 16\": [], \"Quarter-Final\": [], \"Semi-Final\": [], \"Final\": []}"
      ],
      "metadata": {
        "execution": {
          "iopub.status.busy": "2024-06-14T18:09:16.927945Z",
          "iopub.status.idle": "2024-06-14T18:09:16.928335Z",
          "shell.execute_reply.started": "2024-06-14T18:09:16.928146Z",
          "shell.execute_reply": "2024-06-14T18:09:16.928166Z"
        },
        "trusted": true,
        "id": "LaYqAo9m8yxo"
      },
      "execution_count": null,
      "outputs": []
    },
    {
      "cell_type": "code",
      "source": [
        "for p in playoffs.keys():\n",
        "    playoffs[p] = []\n",
        "\n",
        "actual_round = \"\"\n",
        "next_rounds = []\n",
        "\n",
        "for p in playoffs.keys():\n",
        "    if p == \"Round of 16\":\n",
        "        control = []\n",
        "        for a in range(0, len(advanced*2), 1):\n",
        "            if a < len(advanced):\n",
        "                if a % 2 == 0:\n",
        "                    control.append((advanced*2)[a][0])\n",
        "                else:\n",
        "                    control.append((advanced*2)[a][1])\n",
        "            else:\n",
        "                if a % 2 == 0:\n",
        "                    control.append((advanced*2)[a][1])\n",
        "                else:\n",
        "                    control.append((advanced*2)[a][0])\n",
        "\n",
        "        playoffs[p] = [[control[c], control[c+1]] for c in range(0, len(control)-1, 1) if c%2 == 0]\n",
        "\n",
        "        for i in range(0, len(playoffs[p]), 1):\n",
        "            game = playoffs[p][i]\n",
        "\n",
        "            home = game[0]\n",
        "            away = game[1]\n",
        "            team_1 = find_stats(home)\n",
        "            team_2 = find_stats(away)\n",
        "\n",
        "            features_g1 = find_features(team_1, team_2)\n",
        "            features_g2 = find_features(team_2, team_1)\n",
        "\n",
        "            probs_g1 = gb.predict_proba([features_g1])\n",
        "            probs_g2 = gb.predict_proba([features_g2])\n",
        "\n",
        "            team_1_prob = (probs_g1[0][0] + probs_g2[0][1])/2\n",
        "            team_2_prob = (probs_g2[0][0] + probs_g1[0][1])/2\n",
        "\n",
        "            if actual_round != p:\n",
        "                print(\"-\"*10)\n",
        "                print(\"Starting simulation of %s\"%(p))\n",
        "                print(\"-\"*10)\n",
        "                print(\"\\n\")\n",
        "\n",
        "            if team_1_prob < team_2_prob:\n",
        "                print(\"%s vs. %s: %s advances with prob %.2f\"%(home, away, away, team_2_prob))\n",
        "                next_rounds.append(away)\n",
        "            else:\n",
        "                print(\"%s vs. %s: %s advances with prob %.2f\"%(home, away, home, team_1_prob))\n",
        "                next_rounds.append(home)\n",
        "\n",
        "            game.append([team_1_prob, team_2_prob])\n",
        "            playoffs[p][i] = game\n",
        "            actual_round = p\n",
        "\n",
        "    else:\n",
        "        playoffs[p] = [[next_rounds[c], next_rounds[c+1]] for c in range(0, len(next_rounds)-1, 1) if c%2 == 0]\n",
        "        next_rounds = []\n",
        "        for i in range(0, len(playoffs[p])):\n",
        "            game = playoffs[p][i]\n",
        "            home = game[0]\n",
        "            away = game[1]\n",
        "            team_1 = find_stats(home)\n",
        "            team_2 = find_stats(away)\n",
        "\n",
        "            features_g1 = find_features(team_1, team_2)\n",
        "            features_g2 = find_features(team_2, team_1)\n",
        "\n",
        "            probs_g1 = gb.predict_proba([features_g1])\n",
        "            probs_g2 = gb.predict_proba([features_g2])\n",
        "\n",
        "            team_1_prob = (probs_g1[0][0] + probs_g2[0][1])/2\n",
        "            team_2_prob = (probs_g2[0][0] + probs_g1[0][1])/2\n",
        "\n",
        "            if actual_round != p:\n",
        "                print(\"-\"*10)\n",
        "                print(\"Starting simulation of %s\"%(p))\n",
        "                print(\"-\"*10)\n",
        "                print(\"\\n\")\n",
        "\n",
        "            if team_1_prob < team_2_prob:\n",
        "                print(\"%s vs. %s: %s advances with prob %.2f\"%(home, away, away, team_2_prob))\n",
        "                next_rounds.append(away)\n",
        "            else:\n",
        "                print(\"%s vs. %s: %s advances with prob %.2f\"%(home, away, home, team_1_prob))\n",
        "                next_rounds.append(home)\n",
        "            game.append([team_1_prob, team_2_prob])\n",
        "            playoffs[p][i] = game\n",
        "            actual_round = p\n",
        ""
      ],
      "metadata": {
        "execution": {
          "iopub.status.busy": "2024-06-14T18:09:16.930529Z",
          "iopub.status.idle": "2024-06-14T18:09:16.930977Z",
          "shell.execute_reply.started": "2024-06-14T18:09:16.930779Z",
          "shell.execute_reply": "2024-06-14T18:09:16.9308Z"
        },
        "trusted": true,
        "id": "-A5kpmzb8yxo"
      },
      "execution_count": null,
      "outputs": []
    },
    {
      "cell_type": "code",
      "source": [
        "import networkx as nx\n",
        "from networkx.drawing.nx_pydot import graphviz_layout"
      ],
      "metadata": {
        "execution": {
          "iopub.status.busy": "2024-06-14T18:09:16.932351Z",
          "iopub.status.idle": "2024-06-14T18:09:16.932869Z",
          "shell.execute_reply.started": "2024-06-14T18:09:16.932615Z",
          "shell.execute_reply": "2024-06-14T18:09:16.932636Z"
        },
        "trusted": true,
        "id": "_VAumCzp8yxo"
      },
      "execution_count": null,
      "outputs": []
    },
    {
      "cell_type": "code",
      "source": [
        "plt.figure(figsize=(15, 10))\n",
        "G = nx.balanced_tree(2, 3)\n",
        "\n",
        "\n",
        "labels = []\n",
        "\n",
        "\n",
        "for p in playoffs.keys():\n",
        "    for game in playoffs[p]:\n",
        "        label = f\"{game[0]}({round(game[2][0], 2)}) \\n {game[1]}({round(game[2][1], 2)})\"\n",
        "        labels.append(label)\n",
        "\n",
        "labels_dict = {}\n",
        "labels_rev = list(reversed(labels))\n",
        "\n",
        "for l in range(len(list(G.nodes))):\n",
        "    labels_dict[l] = labels_rev[l]\n",
        "\n",
        "pos = graphviz_layout(G, prog='twopi')\n",
        "labels_pos = {n: (k[0], k[1]-0.08*k[1]) for n,k in pos.items()}\n",
        "center  = pd.DataFrame(pos).mean(axis=1).mean()\n",
        "\n",
        "\n",
        "nx.draw(G, pos = pos, with_labels=False, node_color=range(15), edge_color=\"#bbf5bb\", width=10, font_weight='bold',cmap=plt.cm.Greens, node_size=5000)\n",
        "nx.draw_networkx_labels(G, pos = labels_pos, bbox=dict(boxstyle=\"round,pad=0.3\", fc=\"white\", ec=\"black\", lw=.5, alpha=1),\n",
        "                        labels=labels_dict)\n",
        "texts = [\"Round \\nof 16\", \"Quarter \\n Final\", \"Semi \\n Final\", \"Final\\n\"]\n",
        "pos_y = pos[0][1] + 55\n",
        "for text in reversed(texts):\n",
        "    pos_x = center\n",
        "    pos_y -= 75\n",
        "    plt.text(pos_y, pos_x, text, fontsize = 18)\n",
        "\n",
        "plt.axis('equal')\n",
        "plt.show()"
      ],
      "metadata": {
        "execution": {
          "iopub.status.busy": "2024-06-14T18:09:16.934394Z",
          "iopub.status.idle": "2024-06-14T18:09:16.934985Z",
          "shell.execute_reply.started": "2024-06-14T18:09:16.934675Z",
          "shell.execute_reply": "2024-06-14T18:09:16.934704Z"
        },
        "trusted": true,
        "id": "FxIp8OKg8yxp"
      },
      "execution_count": null,
      "outputs": []
    },
    {
      "cell_type": "markdown",
      "source": [
        "And that's the final simulation! Brazil has won the 6th title! Hoping that my predictions are correct now.\n",
        "\n",
        "It's nice to analyze too the possible upsets. Belgium passed against Germany, and were defeated by Portugal. Argentina - Netherlands game is very tight, with Netherlands passing by nearly 1%. The same happens between France and England, with England passing. I think England as finalist was the biggest upset of the simulation.\n",
        "\n",
        "Update: the databases were updated with the last friendlies that national teams played before the World Cup, and, with that, some simulations changed. France now beats England at quarter-final, and they are defeated by Portugal in the semis! Portugal at the finals is a huge surprise!\n",
        "\n",
        "# Conclusion\n",
        "\n",
        "The goal of this was to improve my knowledge with Machine Learning simulating something that I love (Football World Cup). I think that's amazing to create models that we can see the result in real life, and that's what is going to happen!\n",
        "\n",
        "In general, I think that the model predicted like the common sense of people who watch football. There are not huge surprises in the simulation. It's also nice to see games with teams that are more unkown in group phase, like Iran vs. Wales or Senegal vs. Ecuador. I think that in games like that, the model is a good guidance to betting, since the knowledge of most people second tier national teams is not great."
      ],
      "metadata": {
        "id": "wrIrrRGk8yxp"
      }
    },
    {
      "cell_type": "code",
      "source": [],
      "metadata": {
        "id": "AFDrl4o88yxp"
      },
      "execution_count": null,
      "outputs": []
    }
  ]
}